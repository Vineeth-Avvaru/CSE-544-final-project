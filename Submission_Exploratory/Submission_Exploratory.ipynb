{
 "cells": [
  {
   "cell_type": "markdown",
   "metadata": {},
   "source": [
    "### X dataset - Chicago crime dataset\n",
    "The dataset contains various reported crimes in Chicago from 2001 till date.\n",
    "\n",
    "Some of the important columns are\n",
    "\n",
    "\"Primary Type\" - the type of crime reported. Ex: NARCOTICS, BATTERY\n",
    "\n",
    "\"Location Description\" - the location where the crime is reported. Ex: STREET\n",
    "\n",
    "\"Date\" - time at which the incident happened\n",
    "\n",
    "We are considering the 67 days data from 20th Mar, 2020. As Chicago was under lockdown for 67 days from 20th Mar, 2020 and hence this might affect the crimes.\n",
    "\n",
    "We group by just date part of the \"Date\" and get the data filtered for \"Primary Type\" as BATTERY and \"Location Description\" as STREET and \"Primary Type\" as NARCOTICS. We use these three data sets in our three inferences respectively.\n",
    "\n",
    "We correlate the above data sets with the Illinoi related confirmed cases, deaths and confirmed cases from US-all data set respectively. Since the data is cumulative we consider the difference between successive days to get the data per day."
   ]
  },
  {
   "cell_type": "code",
   "execution_count": 1,
   "metadata": {
    "id": "P9-lcioG1-ux"
   },
   "outputs": [],
   "source": [
    "import numpy as np\n",
    "import pandas as pd\n",
    "import matplotlib.pyplot as plt\n",
    "from datetime import datetime\n",
    "pd.set_option(\"display.precision\", 12)"
   ]
  },
  {
   "cell_type": "code",
   "execution_count": 2,
   "metadata": {
    "colab": {
     "base_uri": "https://localhost:8080/"
    },
    "id": "gzgtLX782Zlw",
    "outputId": "beac6461-cb42-4292-b0b4-a2011aca69fa"
   },
   "outputs": [
    {
     "name": "stdout",
     "output_type": "stream",
     "text": [
      "Mounted at /content/gdrive\n"
     ]
    }
   ],
   "source": [
    "from google.colab import drive\n",
    "drive.mount('/content/gdrive')"
   ]
  },
  {
   "cell_type": "code",
   "execution_count": 3,
   "metadata": {
    "colab": {
     "base_uri": "https://localhost:8080/"
    },
    "id": "YV1zomqn2ckp",
    "outputId": "69347af8-70c9-45d7-cc66-1007214bfa2d"
   },
   "outputs": [
    {
     "name": "stdout",
     "output_type": "stream",
     "text": [
      "/content/gdrive/My Drive/Probability Project\n"
     ]
    }
   ],
   "source": [
    "%cd '/content/gdrive/My Drive/Probability Project/'"
   ]
  },
  {
   "cell_type": "markdown",
   "metadata": {
    "id": "lq_9kC_n1-uz"
   },
   "source": [
    "from scipy.stats import poisson, binom, geom"
   ]
  },
  {
   "cell_type": "code",
   "execution_count": 4,
   "metadata": {
    "id": "_LBA2Bdz1-u0"
   },
   "outputs": [],
   "source": [
    "chicago_crime_data = pd.read_csv('chicago_crimes.csv')"
   ]
  },
  {
   "cell_type": "code",
   "execution_count": null,
   "metadata": {
    "id": "pKT-ZXEW1-u1",
    "outputId": "9f253b3c-124d-463d-e559-4ef5051a5138"
   },
   "outputs": [
    {
     "name": "stdout",
     "output_type": "stream",
     "text": [
      "               ID Case Number                    Date                  Block  \\\n",
      "0        10224738    HY411648  09/05/2015 01:30:00 PM        043XX S WOOD ST   \n",
      "1        10224739    HY411615  09/04/2015 11:30:00 AM    008XX N CENTRAL AVE   \n",
      "2        11646166    JC213529  09/01/2018 12:01:00 AM  082XX S INGLESIDE AVE   \n",
      "3        10224740    HY411595  09/05/2015 12:45:00 PM      035XX W BARRY AVE   \n",
      "4        10224741    HY411610  09/05/2015 01:00:00 PM    0000X N LARAMIE AVE   \n",
      "...           ...         ...                     ...                    ...   \n",
      "7309444  12337793    JE196570  04/11/2021 12:00:00 AM    055XX S LA SALLE ST   \n",
      "7309445  12342718    JE202362  04/09/2021 03:38:00 PM   038XX W DIVERSEY AVE   \n",
      "7309446  12338430    JE196478  04/11/2021 05:23:00 PM    073XX S EMERALD AVE   \n",
      "7309447  12337810    JE196290  04/11/2021 12:20:00 PM       064XX S LOWE AVE   \n",
      "7309448  12337497    JE196220  04/11/2021 01:30:00 AM     005XX W MADISON ST   \n",
      "\n",
      "         IUCR                Primary Type              Description  \\\n",
      "0        0486                     BATTERY  DOMESTIC BATTERY SIMPLE   \n",
      "1        0870                       THEFT           POCKET-PICKING   \n",
      "2        0810                       THEFT                OVER $500   \n",
      "3        2023                   NARCOTICS    POSS: HEROIN(BRN/TAN)   \n",
      "4        0560                     ASSAULT                   SIMPLE   \n",
      "...       ...                         ...                      ...   \n",
      "7309444  1330           CRIMINAL TRESPASS                  TO LAND   \n",
      "7309445  1582  OFFENSE INVOLVING CHILDREN        CHILD PORNOGRAPHY   \n",
      "7309446  0486                     BATTERY  DOMESTIC BATTERY SIMPLE   \n",
      "7309447  0486                     BATTERY  DOMESTIC BATTERY SIMPLE   \n",
      "7309448  0910         MOTOR VEHICLE THEFT               AUTOMOBILE   \n",
      "\n",
      "        Location Description  Arrest  Domestic  ...  Ward  Community Area  \\\n",
      "0                  RESIDENCE   False      True  ...  12.0            61.0   \n",
      "1                    CTA BUS   False     False  ...  29.0            25.0   \n",
      "2                  RESIDENCE   False      True  ...   8.0            44.0   \n",
      "3                   SIDEWALK    True     False  ...  35.0            21.0   \n",
      "4                  APARTMENT   False      True  ...  28.0            25.0   \n",
      "...                      ...     ...       ...  ...   ...             ...   \n",
      "7309444            RESIDENCE   False      True  ...   3.0            68.0   \n",
      "7309445            APARTMENT   False     False  ...  30.0            21.0   \n",
      "7309446            APARTMENT   False      True  ...   6.0            68.0   \n",
      "7309447            APARTMENT   False      True  ...  20.0            68.0   \n",
      "7309448   RESIDENCE - GARAGE   False     False  ...  42.0            28.0   \n",
      "\n",
      "         FBI Code  X Coordinate Y Coordinate  Year              Updated On  \\\n",
      "0             08B     1165074.0    1875917.0  2015  02/10/2018 03:50:01 PM   \n",
      "1              06     1138875.0    1904869.0  2015  02/10/2018 03:50:01 PM   \n",
      "2              06           NaN          NaN  2018  04/06/2019 04:04:43 PM   \n",
      "3              18     1152037.0    1920384.0  2015  02/10/2018 03:50:01 PM   \n",
      "4             08A     1141706.0    1900086.0  2015  02/10/2018 03:50:01 PM   \n",
      "...           ...           ...          ...   ...                     ...   \n",
      "7309444        26     1176237.0    1868181.0  2021  04/18/2021 05:28:06 PM   \n",
      "7309445        17           NaN          NaN  2021  04/18/2021 05:28:06 PM   \n",
      "7309446       08B     1172569.0    1856288.0  2021  04/18/2021 05:28:06 PM   \n",
      "7309447       08B     1173144.0    1862203.0  2021  04/18/2021 05:28:06 PM   \n",
      "7309448        07     1172508.0    1900293.0  2021  04/18/2021 05:28:06 PM   \n",
      "\n",
      "             Latitude     Longitude                       Location  \n",
      "0        41.815117282 -87.669999562  (41.815117282, -87.669999562)  \n",
      "1        41.895080471 -87.765400451  (41.895080471, -87.765400451)  \n",
      "2                 NaN           NaN                            NaN  \n",
      "3        41.937405765 -87.716649687  (41.937405765, -87.716649687)  \n",
      "4        41.881903443 -87.755121152  (41.881903443, -87.755121152)  \n",
      "...               ...           ...                            ...  \n",
      "7309444  41.793645207 -87.629284614  (41.793645207, -87.629284614)  \n",
      "7309445           NaN           NaN                            NaN  \n",
      "7309446  41.761091088 -87.643084885  (41.761091088, -87.643084885)  \n",
      "7309447  41.777309867 -87.640802922  (41.777309867, -87.640802922)  \n",
      "7309448  41.881846294 -87.642010780   (41.881846294, -87.64201078)  \n",
      "\n",
      "[7309449 rows x 22 columns]\n"
     ]
    }
   ],
   "source": [
    "print(chicago_crime_data)"
   ]
  },
  {
   "cell_type": "code",
   "execution_count": null,
   "metadata": {
    "id": "1NgQ5MCN1-u2",
    "outputId": "118938d4-81d6-4717-c52e-abb540b3e6ee"
   },
   "outputs": [
    {
     "data": {
      "text/html": [
       "<div>\n",
       "<style scoped>\n",
       "    .dataframe tbody tr th:only-of-type {\n",
       "        vertical-align: middle;\n",
       "    }\n",
       "\n",
       "    .dataframe tbody tr th {\n",
       "        vertical-align: top;\n",
       "    }\n",
       "\n",
       "    .dataframe thead th {\n",
       "        text-align: right;\n",
       "    }\n",
       "</style>\n",
       "<table border=\"1\" class=\"dataframe\">\n",
       "  <thead>\n",
       "    <tr style=\"text-align: right;\">\n",
       "      <th></th>\n",
       "      <th>ID</th>\n",
       "      <th>Beat</th>\n",
       "      <th>District</th>\n",
       "      <th>Ward</th>\n",
       "      <th>Community Area</th>\n",
       "      <th>X Coordinate</th>\n",
       "      <th>Y Coordinate</th>\n",
       "      <th>Year</th>\n",
       "      <th>Latitude</th>\n",
       "      <th>Longitude</th>\n",
       "    </tr>\n",
       "  </thead>\n",
       "  <tbody>\n",
       "    <tr>\n",
       "      <th>count</th>\n",
       "      <td>7.309449000000e+06</td>\n",
       "      <td>7.309449000000e+06</td>\n",
       "      <td>7.309402000000e+06</td>\n",
       "      <td>6.694614000000e+06</td>\n",
       "      <td>6.695965000000e+06</td>\n",
       "      <td>7.237275000000e+06</td>\n",
       "      <td>7.237275000000e+06</td>\n",
       "      <td>7.309449000000e+06</td>\n",
       "      <td>7.237275000000e+06</td>\n",
       "      <td>7.237275000000e+06</td>\n",
       "    </tr>\n",
       "    <tr>\n",
       "      <th>mean</th>\n",
       "      <td>6.660261366367e+06</td>\n",
       "      <td>1.188130319262e+03</td>\n",
       "      <td>1.129500197143e+01</td>\n",
       "      <td>2.271669315064e+01</td>\n",
       "      <td>3.755123272000e+01</td>\n",
       "      <td>1.164553018143e+06</td>\n",
       "      <td>1.885731691610e+06</td>\n",
       "      <td>2.009175206914e+03</td>\n",
       "      <td>4.184204423465e+01</td>\n",
       "      <td>-8.767167133699e+01</td>\n",
       "    </tr>\n",
       "    <tr>\n",
       "      <th>std</th>\n",
       "      <td>3.291396837738e+06</td>\n",
       "      <td>7.029458108992e+02</td>\n",
       "      <td>6.946182569261e+00</td>\n",
       "      <td>1.383130767369e+01</td>\n",
       "      <td>2.153744920953e+01</td>\n",
       "      <td>1.685971031192e+04</td>\n",
       "      <td>3.228709590661e+04</td>\n",
       "      <td>5.656917788139e+00</td>\n",
       "      <td>8.883015931949e-02</td>\n",
       "      <td>6.111897242131e-02</td>\n",
       "    </tr>\n",
       "    <tr>\n",
       "      <th>min</th>\n",
       "      <td>6.340000000000e+02</td>\n",
       "      <td>1.110000000000e+02</td>\n",
       "      <td>1.000000000000e+00</td>\n",
       "      <td>1.000000000000e+00</td>\n",
       "      <td>0.000000000000e+00</td>\n",
       "      <td>0.000000000000e+00</td>\n",
       "      <td>0.000000000000e+00</td>\n",
       "      <td>2.001000000000e+03</td>\n",
       "      <td>3.661944639500e+01</td>\n",
       "      <td>-9.168656568400e+01</td>\n",
       "    </tr>\n",
       "    <tr>\n",
       "      <th>25%</th>\n",
       "      <td>3.612466000000e+06</td>\n",
       "      <td>6.220000000000e+02</td>\n",
       "      <td>6.000000000000e+00</td>\n",
       "      <td>1.000000000000e+01</td>\n",
       "      <td>2.300000000000e+01</td>\n",
       "      <td>1.152941000000e+06</td>\n",
       "      <td>1.859091000000e+06</td>\n",
       "      <td>2.004000000000e+03</td>\n",
       "      <td>4.176874028000e+01</td>\n",
       "      <td>-8.771382932800e+01</td>\n",
       "    </tr>\n",
       "    <tr>\n",
       "      <th>50%</th>\n",
       "      <td>6.649694000000e+06</td>\n",
       "      <td>1.034000000000e+03</td>\n",
       "      <td>1.000000000000e+01</td>\n",
       "      <td>2.200000000000e+01</td>\n",
       "      <td>3.200000000000e+01</td>\n",
       "      <td>1.166042000000e+06</td>\n",
       "      <td>1.890647000000e+06</td>\n",
       "      <td>2.008000000000e+03</td>\n",
       "      <td>4.185572509100e+01</td>\n",
       "      <td>-8.766602824700e+01</td>\n",
       "    </tr>\n",
       "    <tr>\n",
       "      <th>75%</th>\n",
       "      <td>9.528264000000e+06</td>\n",
       "      <td>1.731000000000e+03</td>\n",
       "      <td>1.700000000000e+01</td>\n",
       "      <td>3.400000000000e+01</td>\n",
       "      <td>5.700000000000e+01</td>\n",
       "      <td>1.176362000000e+06</td>\n",
       "      <td>1.909230000000e+06</td>\n",
       "      <td>2.014000000000e+03</td>\n",
       "      <td>4.190670989700e+01</td>\n",
       "      <td>-8.762829090800e+01</td>\n",
       "    </tr>\n",
       "    <tr>\n",
       "      <th>max</th>\n",
       "      <td>1.234311100000e+07</td>\n",
       "      <td>2.535000000000e+03</td>\n",
       "      <td>3.100000000000e+01</td>\n",
       "      <td>5.000000000000e+01</td>\n",
       "      <td>7.700000000000e+01</td>\n",
       "      <td>1.205119000000e+06</td>\n",
       "      <td>1.951622000000e+06</td>\n",
       "      <td>2.021000000000e+03</td>\n",
       "      <td>4.202291033300e+01</td>\n",
       "      <td>-8.752452937800e+01</td>\n",
       "    </tr>\n",
       "  </tbody>\n",
       "</table>\n",
       "</div>"
      ],
      "text/plain": [
       "                       ID                Beat            District  \\\n",
       "count  7.309449000000e+06  7.309449000000e+06  7.309402000000e+06   \n",
       "mean   6.660261366367e+06  1.188130319262e+03  1.129500197143e+01   \n",
       "std    3.291396837738e+06  7.029458108992e+02  6.946182569261e+00   \n",
       "min    6.340000000000e+02  1.110000000000e+02  1.000000000000e+00   \n",
       "25%    3.612466000000e+06  6.220000000000e+02  6.000000000000e+00   \n",
       "50%    6.649694000000e+06  1.034000000000e+03  1.000000000000e+01   \n",
       "75%    9.528264000000e+06  1.731000000000e+03  1.700000000000e+01   \n",
       "max    1.234311100000e+07  2.535000000000e+03  3.100000000000e+01   \n",
       "\n",
       "                     Ward      Community Area        X Coordinate  \\\n",
       "count  6.694614000000e+06  6.695965000000e+06  7.237275000000e+06   \n",
       "mean   2.271669315064e+01  3.755123272000e+01  1.164553018143e+06   \n",
       "std    1.383130767369e+01  2.153744920953e+01  1.685971031192e+04   \n",
       "min    1.000000000000e+00  0.000000000000e+00  0.000000000000e+00   \n",
       "25%    1.000000000000e+01  2.300000000000e+01  1.152941000000e+06   \n",
       "50%    2.200000000000e+01  3.200000000000e+01  1.166042000000e+06   \n",
       "75%    3.400000000000e+01  5.700000000000e+01  1.176362000000e+06   \n",
       "max    5.000000000000e+01  7.700000000000e+01  1.205119000000e+06   \n",
       "\n",
       "             Y Coordinate                Year            Latitude  \\\n",
       "count  7.237275000000e+06  7.309449000000e+06  7.237275000000e+06   \n",
       "mean   1.885731691610e+06  2.009175206914e+03  4.184204423465e+01   \n",
       "std    3.228709590661e+04  5.656917788139e+00  8.883015931949e-02   \n",
       "min    0.000000000000e+00  2.001000000000e+03  3.661944639500e+01   \n",
       "25%    1.859091000000e+06  2.004000000000e+03  4.176874028000e+01   \n",
       "50%    1.890647000000e+06  2.008000000000e+03  4.185572509100e+01   \n",
       "75%    1.909230000000e+06  2.014000000000e+03  4.190670989700e+01   \n",
       "max    1.951622000000e+06  2.021000000000e+03  4.202291033300e+01   \n",
       "\n",
       "                Longitude  \n",
       "count  7.237275000000e+06  \n",
       "mean  -8.767167133699e+01  \n",
       "std    6.111897242131e-02  \n",
       "min   -9.168656568400e+01  \n",
       "25%   -8.771382932800e+01  \n",
       "50%   -8.766602824700e+01  \n",
       "75%   -8.762829090800e+01  \n",
       "max   -8.752452937800e+01  "
      ]
     },
     "execution_count": 6,
     "metadata": {
      "tags": []
     },
     "output_type": "execute_result"
    }
   ],
   "source": [
    "chicago_crime_data.describe()"
   ]
  },
  {
   "cell_type": "code",
   "execution_count": null,
   "metadata": {
    "id": "-qQI2gd21-u3",
    "outputId": "f0e4c201-802f-44e3-c248-79c6de83114b"
   },
   "outputs": [
    {
     "name": "stdout",
     "output_type": "stream",
     "text": [
      "<class 'pandas.core.frame.DataFrame'>\n",
      "RangeIndex: 7309449 entries, 0 to 7309448\n",
      "Data columns (total 22 columns):\n",
      " #   Column                Dtype  \n",
      "---  ------                -----  \n",
      " 0   ID                    int64  \n",
      " 1   Case Number           object \n",
      " 2   Date                  object \n",
      " 3   Block                 object \n",
      " 4   IUCR                  object \n",
      " 5   Primary Type          object \n",
      " 6   Description           object \n",
      " 7   Location Description  object \n",
      " 8   Arrest                bool   \n",
      " 9   Domestic              bool   \n",
      " 10  Beat                  int64  \n",
      " 11  District              float64\n",
      " 12  Ward                  float64\n",
      " 13  Community Area        float64\n",
      " 14  FBI Code              object \n",
      " 15  X Coordinate          float64\n",
      " 16  Y Coordinate          float64\n",
      " 17  Year                  int64  \n",
      " 18  Updated On            object \n",
      " 19  Latitude              float64\n",
      " 20  Longitude             float64\n",
      " 21  Location              object \n",
      "dtypes: bool(2), float64(7), int64(3), object(10)\n",
      "memory usage: 1.1+ GB\n"
     ]
    }
   ],
   "source": [
    "chicago_crime_data.info()"
   ]
  },
  {
   "cell_type": "code",
   "execution_count": 64,
   "metadata": {
    "colab": {
     "base_uri": "https://localhost:8080/"
    },
    "id": "JYqA0Q191-u3",
    "outputId": "d0f22e96-9333-480c-a3c8-36de4264a13f"
   },
   "outputs": [
    {
     "name": "stdout",
     "output_type": "stream",
     "text": [
      "               ID Case Number  ...                       Location         Epoch\n",
      "0        10224738    HY411648  ...  (41.815117282, -87.669999562)  1441459800.0\n",
      "1        10224739    HY411615  ...  (41.895080471, -87.765400451)  1441366200.0\n",
      "2        11646166    JC213529  ...                            NaN  1535760060.0\n",
      "3        10224740    HY411595  ...  (41.937405765, -87.716649687)  1441457100.0\n",
      "4        10224741    HY411610  ...  (41.881903443, -87.755121152)  1441458000.0\n",
      "...           ...         ...  ...                            ...           ...\n",
      "7320036  12355178    JE216224  ...  (41.766592052, -87.621721416)  1619889960.0\n",
      "7320037  12354571    JE216829  ...  (41.698116809, -87.698702789)  1619901000.0\n",
      "7320038  12358852    JE221896  ...   (41.847351577, -87.71121355)  1614694380.0\n",
      "7320039  12354228    JE216131  ...  (41.774146678, -87.615478975)  1619884860.0\n",
      "7320040  12353909    JE215976  ...  (41.729264191, -87.551237878)  1619872200.0\n",
      "\n",
      "[7320041 rows x 23 columns]\n"
     ]
    }
   ],
   "source": [
    "df = chicago_crime_data\n",
    "df[\"Epoch\"] = df.apply(lambda row : datetime.strptime(row[\"Date\"], \"%m/%d/%Y %I:%M:%S %p\").timestamp(), axis = 1)\n",
    "# df[\"Epoch\"] = datetime.strptime(df[\"Date\"], \"%Y-%m-%d %I:%M:%S %p\")\n",
    "print(df)"
   ]
  },
  {
   "cell_type": "code",
   "execution_count": 65,
   "metadata": {
    "id": "dcCFRk2V1-u4"
   },
   "outputs": [],
   "source": [
    "lowerDateLimit = df[\"Epoch\"] >= datetime.strptime(\"01/22/2020 12:00:00 AM\", \"%m/%d/%Y %I:%M:%S %p\").timestamp()"
   ]
  },
  {
   "cell_type": "code",
   "execution_count": 66,
   "metadata": {
    "id": "dEZ8xyYC1-u4"
   },
   "outputs": [],
   "source": [
    "upperDateLimit = df[\"Epoch\"] <= datetime.strptime(\"03/04/2021 12:00:00 AM\", \"%m/%d/%Y %I:%M:%S %p\").timestamp()"
   ]
  },
  {
   "cell_type": "code",
   "execution_count": 67,
   "metadata": {
    "id": "uZkvuGU51-u5"
   },
   "outputs": [],
   "source": [
    "filtered_crimes = df.loc[lowerDateLimit & upperDateLimit]"
   ]
  },
  {
   "cell_type": "code",
   "execution_count": 75,
   "metadata": {
    "colab": {
     "base_uri": "https://localhost:8080/"
    },
    "id": "BINLCIgq-Q0R",
    "outputId": "ae55374f-0ea8-4266-8833-7398bb90eb00"
   },
   "outputs": [
    {
     "data": {
      "text/plain": [
       "(227504, 23)"
      ]
     },
     "execution_count": 75,
     "metadata": {
      "tags": []
     },
     "output_type": "execute_result"
    }
   ],
   "source": [
    "filtered_crimes.shape"
   ]
  },
  {
   "cell_type": "code",
   "execution_count": 78,
   "metadata": {
    "id": "P8Bup27K1-u5",
    "scrolled": true
   },
   "outputs": [],
   "source": [
    "filtered_crimes_sorted = filtered_crimes.sort_values('Epoch')"
   ]
  },
  {
   "cell_type": "code",
   "execution_count": 69,
   "metadata": {
    "colab": {
     "base_uri": "https://localhost:8080/"
    },
    "id": "SnvFl42L1-u5",
    "outputId": "2e5ebf83-804a-477d-cd63-7ddabb94ffa2"
   },
   "outputs": [
    {
     "data": {
      "text/plain": [
       "Location Description\n",
       "CHA HALLWAY               1\n",
       "FARM                      1\n",
       "DRIVEWAY                  1\n",
       "CHA ELEVATOR              1\n",
       "CHA GROUNDS               1\n",
       "                      ...  \n",
       "SMALL RETAIL STORE     5561\n",
       "SIDEWALK              13727\n",
       "APARTMENT             40789\n",
       "RESIDENCE             42197\n",
       "STREET                54846\n",
       "Name: ID, Length: 166, dtype: int64"
      ]
     },
     "execution_count": 69,
     "metadata": {
      "tags": []
     },
     "output_type": "execute_result"
    }
   ],
   "source": [
    "filtered_crimes.sort_values('Epoch').groupby('Location Description')['ID'].nunique().sort_values()"
   ]
  },
  {
   "cell_type": "code",
   "execution_count": 70,
   "metadata": {
    "id": "2jLObCO91-u6"
   },
   "outputs": [],
   "source": [
    "df_filtered = filtered_crimes"
   ]
  },
  {
   "cell_type": "code",
   "execution_count": 71,
   "metadata": {
    "id": "qzeGNBdV1-u6"
   },
   "outputs": [],
   "source": [
    "df_filtered.to_csv('filtered_chicago_crime.csv')"
   ]
  },
  {
   "cell_type": "code",
   "execution_count": 5,
   "metadata": {
    "id": "ESX5Oku81-u7"
   },
   "outputs": [],
   "source": [
    "US_confirmed = pd.read_csv('US_confirmed.csv')"
   ]
  },
  {
   "cell_type": "code",
   "execution_count": 7,
   "metadata": {
    "id": "UOzaMfoq1-u7"
   },
   "outputs": [],
   "source": [
    "US_deaths = pd.read_csv('US_deaths.csv')"
   ]
  },
  {
   "cell_type": "code",
   "execution_count": 72,
   "metadata": {
    "id": "UkSRCf-u29pL"
   },
   "outputs": [],
   "source": [
    "filtered_chicago = pd.read_csv('filtered_chicago_crime.csv')\n",
    "filtered_chicago = df_filtered"
   ]
  },
  {
   "cell_type": "code",
   "execution_count": 192,
   "metadata": {
    "id": "KEMxqEtwgCbt"
   },
   "outputs": [],
   "source": [
    "def pearson_correlation_coefficient(x, y):\n",
    "    covariance_matrix = np.cov(x.astype(float),y.astype(float))\n",
    "    pearson_statistic = covariance_matrix[0][1]/np.sqrt((covariance_matrix[0][0]*covariance_matrix[1][1]))\n",
    "    print(\"Pearson Correlation Coefficient Value is: \" + \"{:5.2f}\".format(pearson_statistic))\n",
    "    return pearson_statistic"
   ]
  },
  {
   "cell_type": "markdown",
   "metadata": {
    "id": "yAsdV5E1fiT1"
   },
   "source": [
    "**Inference 1**\n",
    "\n",
    "Battery related crimes in Chicago and the Covid confirmed cases in the state of Illinois are inversely correlated.\n",
    "\n",
    "As covid period enforces lockdown in the state of Illinois, we are expecting a fall in the battery related crimes outdoors, as we are also expecting a rise in the domestic violence cases than usual but we are not sure. So, we are taking null hypothesis and testing it using pearson’s correlation statistic.\n",
    "\n",
    "It will be useful as our test will help authorities determine where to invest more resources (if it turned out battery crimes are decreasing because of covid authorities and shift some of the resources on this to another issues)\n",
    "\n",
    "**Since the null Hypothesis is checking for inverse linear correlation. We take the threshold = -0.5**"
   ]
  },
  {
   "cell_type": "code",
   "execution_count": 196,
   "metadata": {
    "colab": {
     "base_uri": "https://localhost:8080/"
    },
    "id": "6x6t9PqL7Gem",
    "outputId": "b1a8a25a-fb87-403e-c2f1-924f9c06cf08"
   },
   "outputs": [
    {
     "name": "stdout",
     "output_type": "stream",
     "text": [
      "Pearson Correlation Coefficient Value is:  0.39\n"
     ]
    },
    {
     "name": "stderr",
     "output_type": "stream",
     "text": [
      "/usr/local/lib/python3.7/dist-packages/ipykernel_launcher.py:5: SettingWithCopyWarning: \n",
      "A value is trying to be set on a copy of a slice from a DataFrame.\n",
      "Try using .loc[row_indexer,col_indexer] = value instead\n",
      "\n",
      "See the caveats in the documentation: https://pandas.pydata.org/pandas-docs/stable/user_guide/indexing.html#returning-a-view-versus-a-copy\n",
      "  \"\"\"\n"
     ]
    }
   ],
   "source": [
    "#Inference 1\n",
    "filtered_crimes_sorted = df_filtered\n",
    "\n",
    "filtered_crimes_sorted = filtered_crimes_sorted[(filtered_crimes_sorted['Primary Type'] == \"BATTERY\") & (filtered_crimes_sorted[\"Epoch\"]> 1584676800)]\n",
    "filtered_crimes_sorted[\"DateStr\"] = filtered_crimes_sorted.apply(lambda row : datetime.fromtimestamp(row[\"Epoch\"]).date(), axis = 1)\n",
    "data = filtered_crimes_sorted[\"DateStr\"].value_counts(sort = False).sort_index()\n",
    "data = np.array(data[58:58+67].tolist())\n",
    "\n",
    "US_changed = US_confirmed[US_confirmed['State'] == \"IL\"].T.rename(index = {'State':'Date'})\n",
    "US_changed = US_changed.loc['2020-03-19':'2020-05-25']\n",
    "US_changed = US_changed.diff()\n",
    "US_changed = US_changed[1:]\n",
    "\n",
    "# PEARSON CORRELATION COEFFICIENT for Battery VS Confirmed cases in the State of Illinois\n",
    "pearson_coef = pearson_correlation_coefficient(data, US_changed[14].to_numpy())\n"
   ]
  },
  {
   "cell_type": "markdown",
   "metadata": {
    "id": "B7M21fwLeIKP"
   },
   "source": [
    "**The pearson correlation coefficient is 0.39 and is not smaller than the threshold -0.5 hence we reject the null hypothesis.**\n"
   ]
  },
  {
   "cell_type": "markdown",
   "metadata": {
    "id": "8gG92_1NgzRp"
   },
   "source": [
    "**Inference 2**\n",
    "\n",
    "Number of crimes that happened on the street in Chicago VS Covid confirmed cases in the state of Illinois are inversely correlated.\n",
    "\n",
    "As Covid rampages the streets of Chicago, people tend to find peace at their homes with their loved ones, leaving streets deserted. So, we are expecting a decrease in the crime rate on streets. We test the null hypothesis with pearson’s correlation coefficient statistic.\n",
    "\n",
    "If it turns out that the street crime actually decreased during the covid. Police and actually decrease patrol rounds and use those resources elsewhere.\n"
   ]
  },
  {
   "cell_type": "markdown",
   "metadata": {
    "id": "B7cfBOgYoUMN"
   },
   "source": [
    "**Since the null Hypothesis is checking for inverse linear correlation. We take the threshold = -0.5**"
   ]
  },
  {
   "cell_type": "markdown",
   "metadata": {
    "id": "xoCsng8yUOsq"
   },
   "source": []
  },
  {
   "cell_type": "code",
   "execution_count": 197,
   "metadata": {
    "colab": {
     "base_uri": "https://localhost:8080/"
    },
    "id": "o3oQKJOk-1xi",
    "outputId": "e447cded-ea9c-48ef-ea19-6ff106871399"
   },
   "outputs": [
    {
     "name": "stdout",
     "output_type": "stream",
     "text": [
      "Pearson Correlation Coefficient Value is:  0.20\n"
     ]
    },
    {
     "name": "stderr",
     "output_type": "stream",
     "text": [
      "/usr/local/lib/python3.7/dist-packages/ipykernel_launcher.py:6: SettingWithCopyWarning: \n",
      "A value is trying to be set on a copy of a slice from a DataFrame.\n",
      "Try using .loc[row_indexer,col_indexer] = value instead\n",
      "\n",
      "See the caveats in the documentation: https://pandas.pydata.org/pandas-docs/stable/user_guide/indexing.html#returning-a-view-versus-a-copy\n",
      "  \n"
     ]
    }
   ],
   "source": [
    "#Inference 2\n",
    "\n",
    "filtered_crimes_sorted = df_filtered\n",
    "\n",
    "filtered_crimes_sorted = filtered_crimes_sorted[(filtered_crimes_sorted['Location Description'] == \"STREET\") & (filtered_crimes_sorted[\"Epoch\"]> 1584676800)]\n",
    "filtered_crimes_sorted[\"DateStr\"] = filtered_crimes_sorted.apply(lambda row : datetime.fromtimestamp(row[\"Epoch\"]).date(), axis = 1)\n",
    "data = filtered_crimes_sorted[\"DateStr\"].value_counts(sort = False).sort_index()\n",
    "data = np.array(data[58:58+67].tolist())\n",
    "\n",
    "# PEARSON CORRELATION COEFFICIENT for Crimes reported in streets VS Confirmed cases in the State of Illinois\n",
    "pearson_coef = pearson_correlation_coefficient(data, US_changed[14].to_numpy())\n",
    "\n",
    "\n"
   ]
  },
  {
   "cell_type": "markdown",
   "metadata": {
    "id": "8p2tX6jUfLvB"
   },
   "source": [
    "**The pearson correlation coefficient is 0.2 and is not smaller than the threshold -0.5 hence we accept the null hypothesis.**"
   ]
  },
  {
   "cell_type": "markdown",
   "metadata": {
    "id": "I4tfm1eXhLBk"
   },
   "source": [
    "**Inference 3**\n",
    "\n",
    "Narcotics related crimes in Chicago vs Covid related deaths in state of Illinois are linearly correlated.\n",
    "\n",
    "Generally, more covid deaths are observed on patients having pre-existing conditions. Increase in narcotic crimes imply increase in the usage of narcotics. As people consume more narcotic substances, this weakens their immune system and are susceptible to dying because of covid.  We test the null hypothesis with pearson’s correlation coefficient statistic.\n",
    "\n",
    "If it turns out that the Narcotic related crimes and covid deaths are positively correlated, then the drug control bureau can probably take some stringent norms to reduce the usage of narcotics."
   ]
  },
  {
   "cell_type": "markdown",
   "metadata": {
    "id": "5hGBpFT0f33j"
   },
   "source": [
    "\n",
    "\n",
    "**Since the null Hypothesis is checking for linear correlation. We take the threshold = 0.5**"
   ]
  },
  {
   "cell_type": "code",
   "execution_count": 198,
   "metadata": {
    "colab": {
     "base_uri": "https://localhost:8080/"
    },
    "id": "OHJoeemsRFwx",
    "outputId": "a56e11e4-8efe-4497-86bd-aa2bd621c0a7"
   },
   "outputs": [
    {
     "name": "stdout",
     "output_type": "stream",
     "text": [
      "Pearson Correlation Coefficient Value is: -0.07\n"
     ]
    },
    {
     "name": "stderr",
     "output_type": "stream",
     "text": [
      "/usr/local/lib/python3.7/dist-packages/ipykernel_launcher.py:6: SettingWithCopyWarning: \n",
      "A value is trying to be set on a copy of a slice from a DataFrame.\n",
      "Try using .loc[row_indexer,col_indexer] = value instead\n",
      "\n",
      "See the caveats in the documentation: https://pandas.pydata.org/pandas-docs/stable/user_guide/indexing.html#returning-a-view-versus-a-copy\n",
      "  \n"
     ]
    }
   ],
   "source": [
    "#Inference 3\n",
    "\n",
    "filtered_crimes_sorted = df_filtered\n",
    "\n",
    "filtered_crimes_sorted = filtered_crimes_sorted[(filtered_crimes_sorted['Primary Type'] == \"NARCOTICS\") & (filtered_crimes_sorted[\"Epoch\"]> 1584676800)]\n",
    "filtered_crimes_sorted[\"DateStr\"] = filtered_crimes_sorted.apply(lambda row : datetime.fromtimestamp(row[\"Epoch\"]).date(), axis = 1)\n",
    "data = filtered_crimes_sorted[\"DateStr\"].value_counts(sort = False).sort_index()\n",
    "data = np.array(data[58:58+67].tolist())\n",
    "\n",
    "US_changed_death = US_deaths[US_deaths['State'] == \"IL\"].T.rename(index = {'State':'Date'})\n",
    "US_changed_death = US_changed_death.loc['2020-03-19':'2020-05-25']\n",
    "US_changed_death = US_changed_death.diff()\n",
    "US_changed_death = US_changed_death[1:]\n",
    "\n",
    "# PEARSON CORRELATION COEFFICIENT for Narcotics VS Deaths in the State of Illinois\n",
    "pearson_coef = pearson_correlation_coefficient(data, US_changed_death[14].to_numpy())\n",
    "\n",
    "\n"
   ]
  },
  {
   "cell_type": "markdown",
   "metadata": {
    "id": "jrodyS1iet10"
   },
   "source": [
    "**The pearson correlation coefficient is -0.07 and is smaller than the threshold 0.5 hence we accept the null hypothesis.**"
   ]
  }
 ],
 "metadata": {
  "colab": {
   "collapsed_sections": [],
   "name": "crime_data_clean-2.ipynb",
   "provenance": []
  },
  "kernelspec": {
   "display_name": "Python 3",
   "language": "python",
   "name": "python3"
  },
  "language_info": {
   "codemirror_mode": {
    "name": "ipython",
    "version": 3
   },
   "file_extension": ".py",
   "mimetype": "text/x-python",
   "name": "python",
   "nbconvert_exporter": "python",
   "pygments_lexer": "ipython3",
   "version": "3.8.5"
  }
 },
 "nbformat": 4,
 "nbformat_minor": 1
}
