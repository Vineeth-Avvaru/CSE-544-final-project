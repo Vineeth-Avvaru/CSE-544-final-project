{
 "cells": [
  {
   "cell_type": "code",
   "execution_count": 1,
   "metadata": {},
   "outputs": [],
   "source": [
    "\n",
    "import pandas as pd\n",
    "import numpy as np\n",
    "import seaborn as sns\n",
    "import matplotlib.pyplot as plt\n",
    "import datetime as dt\n",
    "import re\n",
    "pd.options.mode.chained_assignment = None  # default='warn'"
   ]
  },
  {
   "cell_type": "code",
   "execution_count": 2,
   "metadata": {},
   "outputs": [],
   "source": [
    "covid_data = pd.read_csv('20.csv')"
   ]
  },
  {
   "cell_type": "code",
   "execution_count": 3,
   "metadata": {},
   "outputs": [
    {
     "data": {
      "text/html": [
       "<div>\n",
       "<style scoped>\n",
       "    .dataframe tbody tr th:only-of-type {\n",
       "        vertical-align: middle;\n",
       "    }\n",
       "\n",
       "    .dataframe tbody tr th {\n",
       "        vertical-align: top;\n",
       "    }\n",
       "\n",
       "    .dataframe thead th {\n",
       "        text-align: right;\n",
       "    }\n",
       "</style>\n",
       "<table border=\"1\" class=\"dataframe\">\n",
       "  <thead>\n",
       "    <tr style=\"text-align: right;\">\n",
       "      <th></th>\n",
       "      <th>Date</th>\n",
       "      <th>PA confirmed</th>\n",
       "      <th>RI confirmed</th>\n",
       "      <th>PA deaths</th>\n",
       "      <th>RI deaths</th>\n",
       "    </tr>\n",
       "  </thead>\n",
       "  <tbody>\n",
       "    <tr>\n",
       "      <th>0</th>\n",
       "      <td>2020-01-22</td>\n",
       "      <td>0</td>\n",
       "      <td>0</td>\n",
       "      <td>0</td>\n",
       "      <td>0</td>\n",
       "    </tr>\n",
       "    <tr>\n",
       "      <th>1</th>\n",
       "      <td>2020-01-23</td>\n",
       "      <td>0</td>\n",
       "      <td>0</td>\n",
       "      <td>0</td>\n",
       "      <td>0</td>\n",
       "    </tr>\n",
       "    <tr>\n",
       "      <th>2</th>\n",
       "      <td>2020-01-24</td>\n",
       "      <td>0</td>\n",
       "      <td>0</td>\n",
       "      <td>0</td>\n",
       "      <td>0</td>\n",
       "    </tr>\n",
       "    <tr>\n",
       "      <th>3</th>\n",
       "      <td>2020-01-25</td>\n",
       "      <td>0</td>\n",
       "      <td>0</td>\n",
       "      <td>0</td>\n",
       "      <td>0</td>\n",
       "    </tr>\n",
       "    <tr>\n",
       "      <th>4</th>\n",
       "      <td>2020-01-26</td>\n",
       "      <td>0</td>\n",
       "      <td>0</td>\n",
       "      <td>0</td>\n",
       "      <td>0</td>\n",
       "    </tr>\n",
       "    <tr>\n",
       "      <th>...</th>\n",
       "      <td>...</td>\n",
       "      <td>...</td>\n",
       "      <td>...</td>\n",
       "      <td>...</td>\n",
       "      <td>...</td>\n",
       "    </tr>\n",
       "    <tr>\n",
       "      <th>433</th>\n",
       "      <td>2021-03-30</td>\n",
       "      <td>1020306</td>\n",
       "      <td>136419</td>\n",
       "      <td>25051</td>\n",
       "      <td>2613</td>\n",
       "    </tr>\n",
       "    <tr>\n",
       "      <th>434</th>\n",
       "      <td>2021-03-31</td>\n",
       "      <td>1024858</td>\n",
       "      <td>136419</td>\n",
       "      <td>25095</td>\n",
       "      <td>2613</td>\n",
       "    </tr>\n",
       "    <tr>\n",
       "      <th>435</th>\n",
       "      <td>2021-04-01</td>\n",
       "      <td>1028750</td>\n",
       "      <td>136419</td>\n",
       "      <td>25122</td>\n",
       "      <td>2613</td>\n",
       "    </tr>\n",
       "    <tr>\n",
       "      <th>436</th>\n",
       "      <td>2021-04-02</td>\n",
       "      <td>1033406</td>\n",
       "      <td>136419</td>\n",
       "      <td>25150</td>\n",
       "      <td>2613</td>\n",
       "    </tr>\n",
       "    <tr>\n",
       "      <th>437</th>\n",
       "      <td>2021-04-03</td>\n",
       "      <td>1038750</td>\n",
       "      <td>138255</td>\n",
       "      <td>25190</td>\n",
       "      <td>2630</td>\n",
       "    </tr>\n",
       "  </tbody>\n",
       "</table>\n",
       "<p>438 rows × 5 columns</p>\n",
       "</div>"
      ],
      "text/plain": [
       "           Date  PA confirmed  RI confirmed  PA deaths  RI deaths\n",
       "0    2020-01-22             0             0          0          0\n",
       "1    2020-01-23             0             0          0          0\n",
       "2    2020-01-24             0             0          0          0\n",
       "3    2020-01-25             0             0          0          0\n",
       "4    2020-01-26             0             0          0          0\n",
       "..          ...           ...           ...        ...        ...\n",
       "433  2021-03-30       1020306        136419      25051       2613\n",
       "434  2021-03-31       1024858        136419      25095       2613\n",
       "435  2021-04-01       1028750        136419      25122       2613\n",
       "436  2021-04-02       1033406        136419      25150       2613\n",
       "437  2021-04-03       1038750        138255      25190       2630\n",
       "\n",
       "[438 rows x 5 columns]"
      ]
     },
     "execution_count": 3,
     "metadata": {},
     "output_type": "execute_result"
    }
   ],
   "source": [
    "covid_data"
   ]
  },
  {
   "cell_type": "code",
   "execution_count": 4,
   "metadata": {},
   "outputs": [
    {
     "data": {
      "text/html": [
       "<div>\n",
       "<style scoped>\n",
       "    .dataframe tbody tr th:only-of-type {\n",
       "        vertical-align: middle;\n",
       "    }\n",
       "\n",
       "    .dataframe tbody tr th {\n",
       "        vertical-align: top;\n",
       "    }\n",
       "\n",
       "    .dataframe thead th {\n",
       "        text-align: right;\n",
       "    }\n",
       "</style>\n",
       "<table border=\"1\" class=\"dataframe\">\n",
       "  <thead>\n",
       "    <tr style=\"text-align: right;\">\n",
       "      <th></th>\n",
       "      <th>PA confirmed</th>\n",
       "      <th>RI confirmed</th>\n",
       "      <th>PA deaths</th>\n",
       "      <th>RI deaths</th>\n",
       "    </tr>\n",
       "  </thead>\n",
       "  <tbody>\n",
       "    <tr>\n",
       "      <th>count</th>\n",
       "      <td>4.380000e+02</td>\n",
       "      <td>438.000000</td>\n",
       "      <td>438.000000</td>\n",
       "      <td>438.000000</td>\n",
       "    </tr>\n",
       "    <tr>\n",
       "      <th>mean</th>\n",
       "      <td>2.917111e+05</td>\n",
       "      <td>39382.671233</td>\n",
       "      <td>9250.666667</td>\n",
       "      <td>1059.652968</td>\n",
       "    </tr>\n",
       "    <tr>\n",
       "      <th>std</th>\n",
       "      <td>3.343822e+05</td>\n",
       "      <td>41919.899696</td>\n",
       "      <td>7795.064192</td>\n",
       "      <td>776.665703</td>\n",
       "    </tr>\n",
       "    <tr>\n",
       "      <th>min</th>\n",
       "      <td>0.000000e+00</td>\n",
       "      <td>0.000000</td>\n",
       "      <td>0.000000</td>\n",
       "      <td>0.000000</td>\n",
       "    </tr>\n",
       "    <tr>\n",
       "      <th>25%</th>\n",
       "      <td>5.673300e+04</td>\n",
       "      <td>11315.750000</td>\n",
       "      <td>3692.750000</td>\n",
       "      <td>424.000000</td>\n",
       "    </tr>\n",
       "    <tr>\n",
       "      <th>50%</th>\n",
       "      <td>1.315735e+05</td>\n",
       "      <td>20580.000000</td>\n",
       "      <td>7645.000000</td>\n",
       "      <td>1020.000000</td>\n",
       "    </tr>\n",
       "    <tr>\n",
       "      <th>75%</th>\n",
       "      <td>5.069018e+05</td>\n",
       "      <td>62870.000000</td>\n",
       "      <td>12822.500000</td>\n",
       "      <td>1413.000000</td>\n",
       "    </tr>\n",
       "    <tr>\n",
       "      <th>max</th>\n",
       "      <td>1.038750e+06</td>\n",
       "      <td>138255.000000</td>\n",
       "      <td>25190.000000</td>\n",
       "      <td>2630.000000</td>\n",
       "    </tr>\n",
       "  </tbody>\n",
       "</table>\n",
       "</div>"
      ],
      "text/plain": [
       "       PA confirmed   RI confirmed     PA deaths    RI deaths\n",
       "count  4.380000e+02     438.000000    438.000000   438.000000\n",
       "mean   2.917111e+05   39382.671233   9250.666667  1059.652968\n",
       "std    3.343822e+05   41919.899696   7795.064192   776.665703\n",
       "min    0.000000e+00       0.000000      0.000000     0.000000\n",
       "25%    5.673300e+04   11315.750000   3692.750000   424.000000\n",
       "50%    1.315735e+05   20580.000000   7645.000000  1020.000000\n",
       "75%    5.069018e+05   62870.000000  12822.500000  1413.000000\n",
       "max    1.038750e+06  138255.000000  25190.000000  2630.000000"
      ]
     },
     "execution_count": 4,
     "metadata": {},
     "output_type": "execute_result"
    }
   ],
   "source": [
    "covid_data.describe()"
   ]
  },
  {
   "cell_type": "code",
   "execution_count": 5,
   "metadata": {},
   "outputs": [
    {
     "name": "stdout",
     "output_type": "stream",
     "text": [
      "<class 'pandas.core.frame.DataFrame'>\n",
      "RangeIndex: 438 entries, 0 to 437\n",
      "Data columns (total 5 columns):\n",
      " #   Column        Non-Null Count  Dtype \n",
      "---  ------        --------------  ----- \n",
      " 0   Date          438 non-null    object\n",
      " 1   PA confirmed  438 non-null    int64 \n",
      " 2   RI confirmed  438 non-null    int64 \n",
      " 3   PA deaths     438 non-null    int64 \n",
      " 4   RI deaths     438 non-null    int64 \n",
      "dtypes: int64(4), object(1)\n",
      "memory usage: 17.2+ KB\n"
     ]
    }
   ],
   "source": [
    "covid_data.info()"
   ]
  },
  {
   "cell_type": "code",
   "execution_count": 6,
   "metadata": {},
   "outputs": [],
   "source": [
    "covid_PA_confirmed = covid_data['PA confirmed']\n",
    "covid_RI_confirmed = covid_data['RI confirmed']\n",
    "covid_PA_deaths = covid_data['PA deaths']\n",
    "covid_RI_deaths = covid_data['RI deaths']"
   ]
  },
  {
   "cell_type": "code",
   "execution_count": 7,
   "metadata": {},
   "outputs": [
    {
     "name": "stdout",
     "output_type": "stream",
     "text": [
      "0\n",
      "0\n",
      "0\n",
      "0\n"
     ]
    }
   ],
   "source": [
    "print(covid_PA_confirmed.isnull().sum())\n",
    "print(covid_RI_confirmed.isnull().sum())\n",
    "print(covid_PA_deaths.isnull().sum())\n",
    "print(covid_RI_deaths.isnull().sum())\n"
   ]
  },
  {
   "cell_type": "code",
   "execution_count": 8,
   "metadata": {},
   "outputs": [],
   "source": [
    "covid_PA_confirmed = covid_PA_confirmed.diff()\n",
    "covid_PA_confirmed.fillna(0, inplace=True)\n",
    "\n",
    "covid_RI_confirmed = covid_RI_confirmed.diff()\n",
    "covid_RI_confirmed.fillna(0, inplace=True)\n",
    "\n",
    "covid_PA_deaths = covid_PA_deaths.diff()\n",
    "covid_PA_deaths.fillna(0, inplace=True)\n",
    "\n",
    "covid_RI_deaths = covid_RI_deaths.diff()\n",
    "covid_RI_deaths.fillna(0, inplace=True)"
   ]
  },
  {
   "cell_type": "code",
   "execution_count": 9,
   "metadata": {},
   "outputs": [],
   "source": [
    "aggregated_PA_confirmed = covid_PA_confirmed.sum()\n",
    "aggregated_RI_confirmed = covid_RI_confirmed.sum()\n",
    "aggregated_PA_deaths = covid_PA_deaths.sum()\n",
    "aggregated_RI_deaths = covid_RI_deaths.sum()"
   ]
  },
  {
   "cell_type": "code",
   "execution_count": 10,
   "metadata": {},
   "outputs": [],
   "source": [
    "#### Tukey's rule to check for outliers in the aggregated Confirmed and death cases dataset ####\n",
    "### alpha is taken as 1.5 ###\n",
    "def outlier_detection(df):\n",
    "    n = df.size\n",
    "    df = df.sort_values(ascending=True)\n",
    "    q1 = df[int(np.ceil(0.25*n))]\n",
    "    q3 = df[int(np.ceil(0.75*n))]\n",
    "    iqr = q3 - q1\n",
    "    \n",
    "    \n",
    "    alpha = 1.5\n",
    "    upper_limit = q3 + 1.5*iqr\n",
    "    lower_limit = q1 - 1.5*iqr\n",
    "    print(upper_limit,lower_limit)\n",
    "    \n",
    "    return df[((df < lower_limit) | (df > upper_limit))]"
   ]
  },
  {
   "cell_type": "code",
   "execution_count": 11,
   "metadata": {},
   "outputs": [
    {
     "name": "stdout",
     "output_type": "stream",
     "text": [
      "24306.5 -13713.5\n",
      "Series([], Name: PA confirmed, dtype: float64)\n",
      "20209.5 -11858.5\n",
      "Series([], Name: RI confirmed, dtype: float64)\n",
      "660.5 -359.5\n",
      "Series([], Name: PA deaths, dtype: float64)\n",
      "233.0 -127.0\n",
      "Series([], Name: RI deaths, dtype: float64)\n"
     ]
    }
   ],
   "source": [
    "print(outlier_detection(covid_PA_confirmed))\n",
    "print(outlier_detection(covid_RI_confirmed))\n",
    "print(outlier_detection(covid_PA_deaths))\n",
    "print(outlier_detection(covid_RI_deaths))"
   ]
  },
  {
   "cell_type": "code",
   "execution_count": 12,
   "metadata": {},
   "outputs": [
    {
     "data": {
      "text/plain": [
       "<matplotlib.collections.PathCollection at 0x1c9b0536220>"
      ]
     },
     "execution_count": 12,
     "metadata": {},
     "output_type": "execute_result"
    },
    {
     "data": {
      "image/png": "[encoded data removed]",
      "text/plain": [
       "<Figure size 432x288 with 1 Axes>"
      ]
     },
     "metadata": {
      "needs_background": "light"
     },
     "output_type": "display_data"
    }
   ],
   "source": [
    "plt.scatter(x=np.arange(covid_PA_confirmed.size),y=covid_PA_confirmed)"
   ]
  },
  {
   "cell_type": "code",
   "execution_count": 13,
   "metadata": {},
   "outputs": [
    {
     "data": {
      "text/plain": [
       "<matplotlib.collections.PathCollection at 0x1c9b0872340>"
      ]
     },
     "execution_count": 13,
     "metadata": {},
     "output_type": "execute_result"
    },
    {
     "data": {
      "image/png": "[encoded data removed]",
      "text/plain": [
       "<Figure size 432x288 with 1 Axes>"
      ]
     },
     "metadata": {
      "needs_background": "light"
     },
     "output_type": "display_data"
    }
   ],
   "source": [
    "plt.scatter(x=np.arange(covid_PA_deaths.size),y=covid_PA_deaths)"
   ]
  },
  {
   "cell_type": "code",
   "execution_count": 14,
   "metadata": {},
   "outputs": [
    {
     "data": {
      "text/plain": [
       "<matplotlib.collections.PathCollection at 0x1c9b08c8e20>"
      ]
     },
     "execution_count": 14,
     "metadata": {},
     "output_type": "execute_result"
    },
    {
     "data": {
      "image/png": "[encoded data removed]",
      "text/plain": [
       "<Figure size 432x288 with 1 Axes>"
      ]
     },
     "metadata": {
      "needs_background": "light"
     },
     "output_type": "display_data"
    }
   ],
   "source": [
    "plt.scatter(x=np.arange(covid_RI_confirmed.size),y=covid_RI_confirmed)"
   ]
  },
  {
   "cell_type": "code",
   "execution_count": 15,
   "metadata": {},
   "outputs": [
    {
     "data": {
      "text/plain": [
       "<matplotlib.collections.PathCollection at 0x1c9b091ad30>"
      ]
     },
     "execution_count": 15,
     "metadata": {},
     "output_type": "execute_result"
    },
    {
     "data": {
      "image/png": "[encoded data removed]",
      "text/plain": [
       "<Figure size 432x288 with 1 Axes>"
      ]
     },
     "metadata": {
      "needs_background": "light"
     },
     "output_type": "display_data"
    }
   ],
   "source": [
    "plt.scatter(x=np.arange(covid_RI_deaths.size),y=covid_RI_deaths)"
   ]
  },
  {
   "cell_type": "code",
   "execution_count": 16,
   "metadata": {},
   "outputs": [
    {
     "data": {
      "text/html": [
       "<div>\n",
       "<style scoped>\n",
       "    .dataframe tbody tr th:only-of-type {\n",
       "        vertical-align: middle;\n",
       "    }\n",
       "\n",
       "    .dataframe tbody tr th {\n",
       "        vertical-align: top;\n",
       "    }\n",
       "\n",
       "    .dataframe thead th {\n",
       "        text-align: right;\n",
       "    }\n",
       "</style>\n",
       "<table border=\"1\" class=\"dataframe\">\n",
       "  <thead>\n",
       "    <tr style=\"text-align: right;\">\n",
       "      <th></th>\n",
       "      <th>Date</th>\n",
       "      <th>PA confirmed</th>\n",
       "      <th>RI confirmed</th>\n",
       "      <th>PA deaths</th>\n",
       "      <th>RI deaths</th>\n",
       "    </tr>\n",
       "  </thead>\n",
       "  <tbody>\n",
       "    <tr>\n",
       "      <th>0</th>\n",
       "      <td>2020-01-22</td>\n",
       "      <td>0</td>\n",
       "      <td>0</td>\n",
       "      <td>0</td>\n",
       "      <td>0</td>\n",
       "    </tr>\n",
       "    <tr>\n",
       "      <th>1</th>\n",
       "      <td>2020-01-23</td>\n",
       "      <td>0</td>\n",
       "      <td>0</td>\n",
       "      <td>0</td>\n",
       "      <td>0</td>\n",
       "    </tr>\n",
       "    <tr>\n",
       "      <th>2</th>\n",
       "      <td>2020-01-24</td>\n",
       "      <td>0</td>\n",
       "      <td>0</td>\n",
       "      <td>0</td>\n",
       "      <td>0</td>\n",
       "    </tr>\n",
       "    <tr>\n",
       "      <th>3</th>\n",
       "      <td>2020-01-25</td>\n",
       "      <td>0</td>\n",
       "      <td>0</td>\n",
       "      <td>0</td>\n",
       "      <td>0</td>\n",
       "    </tr>\n",
       "    <tr>\n",
       "      <th>4</th>\n",
       "      <td>2020-01-26</td>\n",
       "      <td>0</td>\n",
       "      <td>0</td>\n",
       "      <td>0</td>\n",
       "      <td>0</td>\n",
       "    </tr>\n",
       "    <tr>\n",
       "      <th>...</th>\n",
       "      <td>...</td>\n",
       "      <td>...</td>\n",
       "      <td>...</td>\n",
       "      <td>...</td>\n",
       "      <td>...</td>\n",
       "    </tr>\n",
       "    <tr>\n",
       "      <th>433</th>\n",
       "      <td>2021-03-30</td>\n",
       "      <td>1020306</td>\n",
       "      <td>136419</td>\n",
       "      <td>25051</td>\n",
       "      <td>2613</td>\n",
       "    </tr>\n",
       "    <tr>\n",
       "      <th>434</th>\n",
       "      <td>2021-03-31</td>\n",
       "      <td>1024858</td>\n",
       "      <td>136419</td>\n",
       "      <td>25095</td>\n",
       "      <td>2613</td>\n",
       "    </tr>\n",
       "    <tr>\n",
       "      <th>435</th>\n",
       "      <td>2021-04-01</td>\n",
       "      <td>1028750</td>\n",
       "      <td>136419</td>\n",
       "      <td>25122</td>\n",
       "      <td>2613</td>\n",
       "    </tr>\n",
       "    <tr>\n",
       "      <th>436</th>\n",
       "      <td>2021-04-02</td>\n",
       "      <td>1033406</td>\n",
       "      <td>136419</td>\n",
       "      <td>25150</td>\n",
       "      <td>2613</td>\n",
       "    </tr>\n",
       "    <tr>\n",
       "      <th>437</th>\n",
       "      <td>2021-04-03</td>\n",
       "      <td>1038750</td>\n",
       "      <td>138255</td>\n",
       "      <td>25190</td>\n",
       "      <td>2630</td>\n",
       "    </tr>\n",
       "  </tbody>\n",
       "</table>\n",
       "<p>438 rows × 5 columns</p>\n",
       "</div>"
      ],
      "text/plain": [
       "           Date  PA confirmed  RI confirmed  PA deaths  RI deaths\n",
       "0    2020-01-22             0             0          0          0\n",
       "1    2020-01-23             0             0          0          0\n",
       "2    2020-01-24             0             0          0          0\n",
       "3    2020-01-25             0             0          0          0\n",
       "4    2020-01-26             0             0          0          0\n",
       "..          ...           ...           ...        ...        ...\n",
       "433  2021-03-30       1020306        136419      25051       2613\n",
       "434  2021-03-31       1024858        136419      25095       2613\n",
       "435  2021-04-01       1028750        136419      25122       2613\n",
       "436  2021-04-02       1033406        136419      25150       2613\n",
       "437  2021-04-03       1038750        138255      25190       2630\n",
       "\n",
       "[438 rows x 5 columns]"
      ]
     },
     "execution_count": 16,
     "metadata": {},
     "output_type": "execute_result"
    }
   ],
   "source": [
    "covid_data"
   ]
  },
  {
   "cell_type": "code",
   "execution_count": 17,
   "metadata": {},
   "outputs": [],
   "source": [
    "# get feb and march data seperated\n",
    "# covid_PA_confirmed = covid_data[['Date','PA confirmed']]\n",
    "# covid_RI_confirmed = covid_data[['Date','RI confirmed']]\n",
    "# covid_PA_deaths = covid_data[['Date','PA deaths']]\n",
    "# covid_RI_deaths = covid_data[['Date','RI deaths']]\n",
    "\n",
    "# covid_PA_confirmed['diff'] = covid_PA_confirmed['PA confirmed'].diff()\n",
    "# covid_PA_confirmed['diff'].fillna(0, inplace=True)\n",
    "\n",
    "# covid_RI_confirmed['diff'] = covid_RI_confirmed['RI confirmed'].diff()\n",
    "# covid_RI_confirmed['diff'].fillna(0, inplace=True)\n",
    "\n",
    "# covid_PA_deaths['diff'] = covid_PA_deaths['PA deaths'].diff()\n",
    "# covid_PA_deaths['diff'].fillna(0, inplace=True)\n",
    "\n",
    "# covid_RI_deaths['diff'] = covid_RI_deaths['RI deaths'].diff()\n",
    "# covid_RI_deaths['diff'].fillna(0, inplace=True)\n",
    "\n",
    "# 377 - 404 feb\n",
    "# 404 - \n",
    "covid_PA_confirmed_feb21 = covid_PA_confirmed[377:404].to_numpy()\n",
    "covid_RI_confirmed_feb21 = covid_RI_confirmed[377:404].to_numpy()\n",
    "covid_PA_deaths_feb21 = covid_PA_deaths[377:404].to_numpy()\n",
    "covid_RI_deaths_feb21 = covid_RI_deaths[377:404].to_numpy()\n",
    "\n",
    "covid_PA_confirmed_mar21 = covid_PA_confirmed[404:435].to_numpy()\n",
    "covid_RI_confirmed_mar21 = covid_RI_confirmed[404:435].to_numpy()\n",
    "covid_PA_deaths_mar21 = covid_PA_deaths[404:435].to_numpy()\n",
    "covid_RI_deaths_mar21 = covid_RI_deaths[404:435].to_numpy()\n",
    "# print(covid_RI_deaths_mar21)"
   ]
  },
  {
   "cell_type": "code",
   "execution_count": 18,
   "metadata": {},
   "outputs": [],
   "source": [
    "def corrected_variance(arr):\n",
    "    square_sum = 0\n",
    "    mean = np.mean(arr)\n",
    "    n = len(arr)\n",
    "    for i in range(n):\n",
    "        square_sum = square_sum + (arr[i] -mean)*(arr[i]-mean)\n",
    "    return square_sum/(n-1)"
   ]
  },
  {
   "cell_type": "code",
   "execution_count": 19,
   "metadata": {},
   "outputs": [],
   "source": [
    "def walds_test_1sample(dist1,dist2, threshold, descr):\n",
    "    \n",
    "    dist1_mean = np.mean(dist1)\n",
    "    dist2_mean = np.mean(dist2)\n",
    "\n",
    "    numerator = dist2_mean - dist1_mean\n",
    "    denominator = np.sqrt(dist2_mean/dist2.size)\n",
    "\n",
    "    result = numerator/denominator\n",
    "    w = np.abs(result)\n",
    "    if(w>threshold):\n",
    "      print(\"walds 1 sample testing for mean of \"+str(descr)+\" cases is w=\"+str(w) +\" which is greater than z_alpha/2 = \"+str(threshold)+\" so reject the NULL hypothesis\");\n",
    "    else:\n",
    "      print(\"walds 1 sample testing for mean of \"+str(descr)+\" cases is  w=\"+str(w)+ \" which is less than z_alpha/2 = \"+str(threshold)+\" so accept the NULL hypothesis\")"
   ]
  },
  {
   "cell_type": "code",
   "execution_count": 20,
   "metadata": {},
   "outputs": [],
   "source": [
    "def walds_test_2sample(dist1, dist2, threshold, descr):\n",
    "\n",
    "    dist1_mean = np.mean(dist1)\n",
    "    dist2_mean = np.mean(dist2)\n",
    "    \n",
    "    numer = dist2_mean-dist1_mean\n",
    "    denom = np.sqrt(dist2_mean/dist2.size + dist1_mean/dist1.size)\n",
    "    w = abs(numer/denom)\n",
    "    if(w>threshold):\n",
    "      print(\"walds 2 sample testing for mean of \"+str(descr)+\" cases is w=\"+str(w) +\" which is greater than z_alpha/2 = \"+str(threshold)+\" so reject the NULL hypothesis\");\n",
    "    else:\n",
    "      print(\"walds 2 sample testing for mean of \"+str(descr)+\" cases is  w=\"+str(w)+ \" which is less than z_alpha/2 = \"+str(threshold)+\" so accept the NULL hypothesis\")"
   ]
  },
  {
   "cell_type": "code",
   "execution_count": 21,
   "metadata": {},
   "outputs": [],
   "source": [
    "#  z test\n",
    "def z_test(dist1, dist2, full, zthreshold, descr):\n",
    "    dist1_mean = np.mean(dist1)\n",
    "    dist2_mean = np.mean(dist2)\n",
    "    \n",
    "    numer = dist2_mean - dist1_mean\n",
    "    denom = np.sqrt(corrected_variance(full)/full.size)\n",
    "    \n",
    "    z = abs(numer/denom)\n",
    "    \n",
    "    if(z>zthreshold):\n",
    "      print(\"z test 1 sample testing for mean of \"+str(descr)+\" cases is w=\"+str(z) +\" which is greater than z_alpha/2 = \"+str(zthreshold)+\" so reject the NULL hypothesis\");\n",
    "    else:\n",
    "      print(\"z test 1 sample testing for mean of \"+str(descr)+\" cases is  w=\"+str(z)+ \" which is less than z_alpha/2 = \"+str(zthreshold)+\" so accept the NULL hypothesis\")"
   ]
  },
  {
   "cell_type": "code",
   "execution_count": 22,
   "metadata": {},
   "outputs": [],
   "source": [
    "# t test\n",
    "def t_test_1sample(dist1, dist2, tthreshold, descr):\n",
    "    dist1_mean = np.mean(dist1)\n",
    "    dist2_mean = np.mean(dist2)\n",
    "    \n",
    "    numer = dist2_mean - dist1_mean\n",
    "    denom = np.sqrt(np.var(dist2)/dist2.size)\n",
    "    \n",
    "    t = abs(numer/denom)\n",
    "    \n",
    "    if(t>tthreshold):\n",
    "      print(\"t test 1 sample testing for mean of \"+str(descr)+\" cases is w=\"+str(t) +\" which is greater than t threshold = \"+str(tthreshold)+\" so reject the NULL hypothesis\");\n",
    "    else:\n",
    "      print(\"t test 1 sample testing for mean of \"+str(descr)+\" cases is  w=\"+str(t)+ \" which is less than t thresfold = \"+str(tthreshold)+\" so accept the NULL hypothesis\")\n"
   ]
  },
  {
   "cell_type": "code",
   "execution_count": 23,
   "metadata": {},
   "outputs": [],
   "source": [
    "# t test\n",
    "def t_test_2sample_unpaired(dist1, dist2,  tthreshold, descr):\n",
    "    dist1_mean = np.mean(dist1)\n",
    "    dist2_mean = np.mean(dist2)\n",
    "    \n",
    "    numer = dist2_mean - dist1_mean\n",
    "    denom = np.sqrt(np.var(dist2)/dist2.size + np.var(dist1)/dist1.size)\n",
    "    \n",
    "    t = abs(numer/denom)\n",
    "    \n",
    "    if(t>tthreshold):\n",
    "      print(\"t test 2 sample testing for mean of \"+str(descr)+\" cases is w=\"+str(t) +\" which is greater than t threshold = \"+str(tthreshold)+\" so reject the NULL hypothesis\");\n",
    "    else:\n",
    "      print(\"t test 2 sample testing for mean of \"+str(descr)+\" cases is  w=\"+str(t)+ \" which is less than t thresfold = \"+str(tthreshold)+\" so accept the NULL hypothesis\")\n"
   ]
  },
  {
   "cell_type": "code",
   "execution_count": 24,
   "metadata": {},
   "outputs": [
    {
     "name": "stdout",
     "output_type": "stream",
     "text": [
      "walds 1 sample testing for mean of PA confirmed cases is w=16.619607923824383 which is greater than z_alpha/2 = 1.962 so reject the NULL hypothesis\n",
      "walds 1 sample testing for mean of RI confirmed cases is w=35.67665229676999 which is greater than z_alpha/2 = 1.962 so reject the NULL hypothesis\n",
      "walds 1 sample testing for mean of PA death cases is w=49.264056266219804 which is greater than z_alpha/2 = 1.962 so reject the NULL hypothesis\n",
      "walds 1 sample testing for mean of RI death cases is w=20.405322325300368 which is greater than z_alpha/2 = 1.962 so reject the NULL hypothesis\n"
     ]
    }
   ],
   "source": [
    "# walds 1 cases\n",
    "walds_test_1sample(covid_PA_confirmed_feb21, covid_PA_confirmed_mar21, 1.962, \"PA confirmed\")\n",
    "walds_test_1sample(covid_RI_confirmed_feb21, covid_RI_confirmed_mar21, 1.962, \"RI confirmed\")\n",
    "\n",
    "walds_test_1sample(covid_PA_deaths_feb21, covid_PA_deaths_mar21, 1.962, \"PA death\")\n",
    "walds_test_1sample(covid_RI_deaths_feb21, covid_RI_deaths_mar21, 1.962, \"RI death\")"
   ]
  },
  {
   "cell_type": "code",
   "execution_count": 25,
   "metadata": {},
   "outputs": [
    {
     "name": "stdout",
     "output_type": "stream",
     "text": [
      "z test 1 sample testing for mean of PA confirmed cases is  w=1.1882866194558868 which is less than z_alpha/2 = 1.962 so accept the NULL hypothesis\n",
      "z test 1 sample testing for mean of RI confirmed cases is w=2.7806084019373296 which is greater than z_alpha/2 = 1.962 so reject the NULL hypothesis\n",
      "z test 1 sample testing for mean of PA death cases is w=13.442637032881342 which is greater than z_alpha/2 = 1.962 so reject the NULL hypothesis\n",
      "z test 1 sample testing for mean of RI death cases is w=10.469384943619318 which is greater than z_alpha/2 = 1.962 so reject the NULL hypothesis\n"
     ]
    }
   ],
   "source": [
    "# z test cases\n",
    "z_test(covid_PA_confirmed_feb21, covid_PA_confirmed_mar21, covid_PA_confirmed.to_numpy(), 1.962, \"PA confirmed\")\n",
    "z_test(covid_RI_confirmed_feb21, covid_RI_confirmed_mar21, covid_RI_confirmed.to_numpy(), 1.962, \"RI confirmed\")\n",
    "\n",
    "z_test(covid_PA_deaths_feb21, covid_PA_deaths_mar21, covid_PA_deaths.to_numpy(), 1.962, \"PA death\")\n",
    "z_test(covid_RI_deaths_feb21, covid_RI_deaths_mar21, covid_RI_deaths.to_numpy(), 1.962, \"RI death\")\n"
   ]
  },
  {
   "cell_type": "code",
   "execution_count": 26,
   "metadata": {},
   "outputs": [
    {
     "name": "stdout",
     "output_type": "stream",
     "text": [
      "t test 1 sample testing for mean of PA confirmed cases is  w=0.5911709914592703 which is less than t thresfold = 1.695 so accept the NULL hypothesis\n",
      "t test 1 sample testing for mean of RI confirmed cases is  w=0.5581406153509247 which is less than t thresfold = 1.695 so accept the NULL hypothesis\n",
      "t test 1 sample testing for mean of PA death cases is w=14.080850914346481 which is greater than t threshold = 1.695 so reject the NULL hypothesis\n",
      "t test 1 sample testing for mean of RI death cases is w=3.650029496242308 which is greater than t threshold = 1.695 so reject the NULL hypothesis\n"
     ]
    }
   ],
   "source": [
    "# t test 1 sample cases\n",
    "t_test_1sample(covid_PA_confirmed_feb21, covid_PA_confirmed_mar21, 1.695, \"PA confirmed\")\n",
    "t_test_1sample(covid_RI_confirmed_feb21, covid_RI_confirmed_mar21, 1.695, \"RI confirmed\")\n",
    "\n",
    "t_test_1sample(covid_PA_deaths_feb21, covid_PA_deaths_mar21, 1.695, \"PA death\")\n",
    "t_test_1sample(covid_RI_deaths_feb21, covid_RI_deaths_mar21, 1.695, \"RI death\")"
   ]
  },
  {
   "cell_type": "code",
   "execution_count": 27,
   "metadata": {},
   "outputs": [
    {
     "name": "stdout",
     "output_type": "stream",
     "text": [
      "walds 2 sample testing for mean of PA confirmed cases is w=11.177901973153707 which is greater than z_alpha/2 = 1.962 so reject the NULL hypothesis\n",
      "walds 2 sample testing for mean of RI confirmed cases is w=26.281060780115222 which is greater than z_alpha/2 = 1.962 so reject the NULL hypothesis\n",
      "walds 2 sample testing for mean of PA death cases is w=25.021307796226584 which is greater than z_alpha/2 = 1.962 so reject the NULL hypothesis\n",
      "walds 2 sample testing for mean of RI death cases is w=10.238505691170836 which is greater than z_alpha/2 = 1.962 so reject the NULL hypothesis\n"
     ]
    }
   ],
   "source": [
    "# walds 2 sample cases\n",
    "walds_test_2sample(covid_PA_confirmed_feb21, covid_PA_confirmed_mar21, 1.962, \"PA confirmed\")\n",
    "walds_test_2sample(covid_RI_confirmed_feb21, covid_RI_confirmed_mar21, 1.962, \"RI confirmed\")\n",
    "\n",
    "walds_test_2sample(covid_PA_deaths_feb21, covid_PA_deaths_mar21, 1.962, \"PA death\")\n",
    "walds_test_2sample(covid_RI_deaths_feb21, covid_RI_deaths_mar21, 1.962, \"RI death\")"
   ]
  },
  {
   "cell_type": "code",
   "execution_count": 28,
   "metadata": {},
   "outputs": [
    {
     "name": "stdout",
     "output_type": "stream",
     "text": [
      "t test 2 sample testing for mean of PA confirmed cases is  w=0.4174693674380703 which is less than t thresfold = 1.672 so accept the NULL hypothesis\n",
      "t test 2 sample testing for mean of RI confirmed cases is  w=0.4491787322092176 which is less than t thresfold = 1.672 so accept the NULL hypothesis\n",
      "t test 2 sample testing for mean of PA death cases is w=4.533964533784396 which is greater than t threshold = 1.672 so reject the NULL hypothesis\n",
      "t test 2 sample testing for mean of RI death cases is  w=1.1972817568022474 which is less than t thresfold = 1.672 so accept the NULL hypothesis\n"
     ]
    }
   ],
   "source": [
    "# t test 1 sample cases\n",
    "t_test_2sample_unpaired(covid_PA_confirmed_feb21, covid_PA_confirmed_mar21, 1.672, \"PA confirmed\")\n",
    "t_test_2sample_unpaired(covid_RI_confirmed_feb21, covid_RI_confirmed_mar21, 1.672, \"RI confirmed\")\n",
    "\n",
    "t_test_2sample_unpaired(covid_PA_deaths_feb21, covid_PA_deaths_mar21, 1.672, \"PA death\")\n",
    "t_test_2sample_unpaired(covid_RI_deaths_feb21, covid_RI_deaths_mar21, 1.672, \"RI death\")"
   ]
  },
  {
   "cell_type": "markdown",
   "metadata": {},
   "source": [
    "**Applicability Of Tests:**\n",
    "\n",
    "**Wald's Test:**\n",
    "   1. We require an asymptomatical normal estimator for wald's test and as n = 28, 30 is fairly low, this is not the ideal case       for assumption of CLT for sample mean. Therefore, this test is not applicable.\n",
    "\n",
    "   2. The above reasoning works well for 2 sample test as well, since we need both estimators to be asymptomatically Normal.           Therfore this test is also not applicable.\n",
    "\n",
    "**Z-test:**\n",
    "\n",
    "   1. As we need to use true standard deviation in z-test , the dataset size is just 438, which is not particularly large.             Neither the  datasets are normally distributed. Therefore this testis not applicable.\n",
    "\n",
    "**T-test:**\n",
    "\n",
    "   1. For one sample , similarly to above tests, the data inferred here is neither normally distributed nor large enough.             Therefore the test is not applicable.\n",
    "   2. For unpaired 2 sample test, distributions need to be independent and normally distributed. But that doesnt seem the same         in above case. Therefore the test is not applicable."
   ]
  },
  {
   "cell_type": "code",
   "execution_count": null,
   "metadata": {},
   "outputs": [],
   "source": []
  }
 ],
 "metadata": {
  "kernelspec": {
   "display_name": "Python 3",
   "language": "python",
   "name": "python3"
  },
  "language_info": {
   "codemirror_mode": {
    "name": "ipython",
    "version": 3
   },
   "file_extension": ".py",
   "mimetype": "text/x-python",
   "name": "python",
   "nbconvert_exporter": "python",
   "pygments_lexer": "ipython3",
   "version": "3.8.5"
  }
 },
 "nbformat": 4,
 "nbformat_minor": 5
}
