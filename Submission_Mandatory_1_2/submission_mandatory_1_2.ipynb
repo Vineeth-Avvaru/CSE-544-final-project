{
 "cells": [
  {
   "cell_type": "code",
   "execution_count": null,
   "metadata": {},
   "outputs": [],
   "source": [
    "#!/usr/bin/env python\n",
    "# coding: utf-8"
   ]
  },
  {
   "cell_type": "markdown",
   "metadata": {},
   "source": [
    "**COVID - 19 and X Dataset**<br>\n",
    "<br>\n",
    "**Assigned dataset - 20 https://github.com/michaelofsbu/CSE-544-Datasets**<br>\n",
    "<br>\n",
    "**For the X dataset, we have chosen the Chicago Crime Data**<br>\n",
    "<br>\n",
    "**https://data.cityofchicago.org/Public-Safety/Crimes-2001-to-present/ijzp-q8t2**"
   ]
  },
  {
   "cell_type": "markdown",
   "metadata": {},
   "source": [
    "In[6]:"
   ]
  },
  {
   "cell_type": "code",
   "execution_count": null,
   "metadata": {},
   "outputs": [],
   "source": [
    "import pandas as pd\n",
    "import numpy as np\n",
    "import seaborn as sns\n",
    "import matplotlib.pyplot as plt\n",
    "import datetime as dt\n",
    "import re\n",
    "import scipy.stats as stats\n",
    "from scipy.stats import gamma"
   ]
  },
  {
   "cell_type": "markdown",
   "metadata": {},
   "source": [
    "**Mandatory tasks**<br>\n",
    "<br>\n",
    "**Q 1**"
   ]
  },
  {
   "cell_type": "markdown",
   "metadata": {},
   "source": [
    "**Load Data and get statistics**"
   ]
  },
  {
   "cell_type": "markdown",
   "metadata": {},
   "source": [
    "In[7]:"
   ]
  },
  {
   "cell_type": "code",
   "execution_count": null,
   "metadata": {},
   "outputs": [],
   "source": [
    "covid_data = pd.read_csv('20.csv')\n",
    "print(covid_data.describe())"
   ]
  },
  {
   "cell_type": "markdown",
   "metadata": {},
   "source": [
    "In[10]:"
   ]
  },
  {
   "cell_type": "code",
   "execution_count": null,
   "metadata": {},
   "outputs": [],
   "source": [
    "covid_PA_confirmed = covid_data['PA confirmed']\n",
    "covid_RI_confirmed = covid_data['RI confirmed']\n",
    "covid_PA_deaths = covid_data['PA deaths']\n",
    "covid_RI_deaths = covid_data['RI deaths']"
   ]
  },
  {
   "cell_type": "markdown",
   "metadata": {},
   "source": [
    "**Check null values in data set**"
   ]
  },
  {
   "cell_type": "markdown",
   "metadata": {},
   "source": [
    "In[11]:"
   ]
  },
  {
   "cell_type": "code",
   "execution_count": null,
   "metadata": {},
   "outputs": [],
   "source": [
    "print(covid_PA_confirmed.isnull().sum())\n",
    "print(covid_RI_confirmed.isnull().sum())\n",
    "print(covid_PA_deaths.isnull().sum())\n",
    "print(covid_RI_deaths.isnull().sum())"
   ]
  },
  {
   "cell_type": "markdown",
   "metadata": {},
   "source": [
    "**No null values observed**"
   ]
  },
  {
   "cell_type": "markdown",
   "metadata": {},
   "source": [
    "**getting individual data from cumulative data and assign zero for negative confirmed cases and deaths**"
   ]
  },
  {
   "cell_type": "markdown",
   "metadata": {},
   "source": [
    "In[12]:"
   ]
  },
  {
   "cell_type": "code",
   "execution_count": null,
   "metadata": {},
   "outputs": [],
   "source": [
    "covid_PA_confirmed = covid_PA_confirmed.diff()\n",
    "covid_PA_confirmed.fillna(0, inplace=True)\n",
    "covid_PA_confirmed.loc[covid_PA_confirmed<0]=0"
   ]
  },
  {
   "cell_type": "code",
   "execution_count": null,
   "metadata": {},
   "outputs": [],
   "source": [
    "covid_RI_confirmed = covid_RI_confirmed.diff()\n",
    "covid_RI_confirmed.fillna(0, inplace=True)\n",
    "covid_RI_confirmed.loc[covid_RI_confirmed<0]=0"
   ]
  },
  {
   "cell_type": "code",
   "execution_count": null,
   "metadata": {},
   "outputs": [],
   "source": [
    "covid_PA_deaths = covid_PA_deaths.diff().reset_index(drop=True)\n",
    "covid_PA_deaths.fillna(0, inplace=True)\n",
    "covid_PA_deaths.loc[covid_PA_deaths<0]=0"
   ]
  },
  {
   "cell_type": "code",
   "execution_count": null,
   "metadata": {},
   "outputs": [],
   "source": [
    "covid_RI_deaths = covid_RI_deaths.diff().reset_index(drop=True)\n",
    "covid_RI_deaths.fillna(0, inplace=True)\n",
    "covid_RI_deaths.loc[covid_RI_deaths<0]=0"
   ]
  },
  {
   "cell_type": "markdown",
   "metadata": {},
   "source": [
    "In[13]:"
   ]
  },
  {
   "cell_type": "code",
   "execution_count": null,
   "metadata": {},
   "outputs": [],
   "source": [
    "covid_PA_confirmed = pd.concat([covid_data['Date'],covid_PA_confirmed],axis=1)\n",
    "covid_RI_confirmed = pd.concat([covid_data['Date'],covid_RI_confirmed],axis=1)\n",
    "covid_PA_deaths = pd.concat([covid_data['Date'],covid_PA_deaths],axis=1)\n",
    "covid_RI_deaths = pd.concat([covid_data['Date'],covid_RI_deaths],axis=1)\n",
    "covid_PA_confirmed.columns=['Date', 'Count']\n",
    "covid_PA_deaths.columns=['Date', 'Count']\n",
    "covid_RI_confirmed.columns=['Date', 'Count']\n",
    "covid_RI_deaths.columns=['Date', 'Count']"
   ]
  },
  {
   "cell_type": "markdown",
   "metadata": {},
   "source": [
    "**Outlier detection**"
   ]
  },
  {
   "cell_type": "markdown",
   "metadata": {},
   "source": [
    "In[18]:"
   ]
  },
  {
   "cell_type": "markdown",
   "metadata": {},
   "source": [
    "## Tukey's rule to check for outliers for daily Confirmed and death cases ####<br>\n",
    "# alpha is taken as 1.5 ###"
   ]
  },
  {
   "cell_type": "code",
   "execution_count": null,
   "metadata": {},
   "outputs": [],
   "source": [
    "def outlier_detection(df):\n",
    "    n = df.size\n",
    "    df = df.sort_values(ascending=True)\n",
    "    q1 = df[int(np.ceil(0.25*n))]\n",
    "    q3 = df[int(np.ceil(0.75*n))]\n",
    "    iqr = q3 - q1\n",
    "    \n",
    "    alpha = 1.5\n",
    "    upper_limit = q3 + 1.5*iqr\n",
    "    lower_limit = q1 - 1.5*iqr\n",
    "    print('upper and lower limits for outliers: ',upper_limit,lower_limit)\n",
    "    \n",
    "    return df[((df < lower_limit) | (df > upper_limit))]"
   ]
  },
  {
   "cell_type": "markdown",
   "metadata": {},
   "source": [
    "In[19]:"
   ]
  },
  {
   "cell_type": "code",
   "execution_count": null,
   "metadata": {},
   "outputs": [],
   "source": [
    "print(outlier_detection(covid_PA_confirmed['Count']))\n",
    "print(outlier_detection(covid_RI_confirmed['Count']))\n",
    "print(outlier_detection(covid_PA_deaths['Count']))\n",
    "print(outlier_detection(covid_RI_deaths['Count']))"
   ]
  },
  {
   "cell_type": "markdown",
   "metadata": {},
   "source": [
    "**No outliers found**"
   ]
  },
  {
   "cell_type": "markdown",
   "metadata": {},
   "source": [
    "**- - - - -   Q 2  - - - - -**"
   ]
  },
  {
   "cell_type": "markdown",
   "metadata": {},
   "source": [
    "**Q2 - iii, iv**"
   ]
  },
  {
   "cell_type": "markdown",
   "metadata": {},
   "source": [
    "In[71]:"
   ]
  },
  {
   "cell_type": "code",
   "execution_count": null,
   "metadata": {},
   "outputs": [],
   "source": [
    "def plot_ewma(X, test, predictions):\n",
    "    plt.plot(X,test,label=\"original\")\n",
    "    plt.plot(X,predictions,label=\"Predictions\")\n",
    "    plt.xlabel('Dates - 4th week of August')\n",
    "    plt.ylabel('Y')\n",
    "    plt.legend(loc='upper left')\n",
    "    plt.xticks(rotation=45)\n",
    "    plt.show()\n",
    "    \n",
    "class EWMA:\n",
    "    def __init__(self, alpha):\n",
    "        self.alpha = alpha\n",
    "    def predict(self,data,test):\n",
    "        y_t_hat = data['Count'][0]\n",
    "        #calculating y_t_hat\n",
    "        for i in range(data.shape[0]):\n",
    "            y_t = data['Count'][i]\n",
    "            y_t_hat = self.alpha*y_t + (1-self.alpha)*y_t_hat\n",
    "        \n",
    "        mse_errors = []\n",
    "        mape_errors = []\n",
    "        predictions = np.zeros(len(test))\n",
    "        #predicting values\n",
    "        for i in np.arange(len(test)):\n",
    "            y_t = test['Count'][i]\n",
    "            print(\"Date: \" + str(test['Date'][i]) + \" - Test Prediction: \" + \"{:5.3f}\".format(y_t_hat) + \", Actual: \" + \"{:5.3f}\".format(y_t))\n",
    "            \n",
    "            #Ignoring zero data to avoid infinite error\n",
    "            if y_t!=0:\n",
    "                mape_errors.append(abs(y_t_hat-y_t)*100/y_t)\n",
    "                mse_errors.append((y_t_hat-y_t)**2)\n",
    "            predictions[i] = y_t_hat = self.alpha*y_t + (1-self.alpha)* y_t_hat\n",
    "        plot_ewma(np.array(test['Date']), test['Count'], predictions)\n",
    "        print(\"------------------------Errors--------------------------------------\")\n",
    "        print(\"MAPE:\" + \"{:5.2f}\".format(np.mean(mape_errors)))\n",
    "        print(\"MSE:\" + \"{:5.2f}\".format(np.mean(mse_errors)))     "
   ]
  },
  {
   "cell_type": "markdown",
   "metadata": {},
   "source": [
    "In[72]:"
   ]
  },
  {
   "cell_type": "markdown",
   "metadata": {},
   "source": [
    "Exponentially Weighted Moving Average (Confirmed COVID Cases in August 2020)<br>\n",
    "redict Confirmed cases for 4th week of August with first three weeks data of August "
   ]
  },
  {
   "cell_type": "code",
   "execution_count": null,
   "metadata": {},
   "outputs": [],
   "source": [
    "train_PA_confirmed = covid_PA_confirmed[(covid_PA_confirmed['Date']>='2020-08-01') & (covid_PA_confirmed['Date']<='2020-08-21')].reset_index(drop=True)\n",
    "test_PA_confirmed = covid_PA_confirmed[(covid_PA_confirmed['Date']>='2020-08-22') & (covid_PA_confirmed['Date']<='2020-08-28')].reset_index(drop=True)"
   ]
  },
  {
   "cell_type": "code",
   "execution_count": null,
   "metadata": {},
   "outputs": [],
   "source": [
    "train_RI_confirmed = covid_RI_confirmed[(covid_RI_confirmed['Date']>='2020-08-01') & (covid_RI_confirmed['Date']<='2020-08-21')].reset_index(drop=True)\n",
    "test_RI_confirmed = covid_RI_confirmed[(covid_RI_confirmed['Date']>='2020-08-22') & (covid_RI_confirmed['Date']<='2020-08-28')].reset_index(drop=True)"
   ]
  },
  {
   "cell_type": "code",
   "execution_count": null,
   "metadata": {},
   "outputs": [],
   "source": [
    "print(\"\\n--------------------------- EWMA(0.5) -----------------------------\\n\")\n",
    "print(\"\\n-------- Predicting Pennsylvania confirmed cases --------\\n\")\n",
    "ewma = EWMA(0.5)\n",
    "ewma.predict(train_PA_confirmed,test_PA_confirmed)"
   ]
  },
  {
   "cell_type": "code",
   "execution_count": null,
   "metadata": {},
   "outputs": [],
   "source": [
    "print(\"\\n-------- Predicting Rhode Island confirmed cases --------\\n\")\n",
    "ewma = EWMA(0.5)\n",
    "ewma.predict(train_RI_confirmed,test_RI_confirmed)"
   ]
  },
  {
   "cell_type": "code",
   "execution_count": null,
   "metadata": {},
   "outputs": [],
   "source": [
    "print(\"\\n--------------------------- EWMA(0.8) -----------------------------\\n\")\n",
    "print(\"\\n-------- Predicting Pennsylvania confirmed cases --------\\n\")\n",
    "ewma = EWMA(0.8)\n",
    "ewma.predict(train_PA_confirmed,test_PA_confirmed)"
   ]
  },
  {
   "cell_type": "code",
   "execution_count": null,
   "metadata": {},
   "outputs": [],
   "source": [
    "print(\"\\n-------- Predicting Rhode Island confirmed cases --------\\n\")\n",
    "ewma = EWMA(0.8)\n",
    "ewma.predict(train_RI_confirmed,test_RI_confirmed)"
   ]
  },
  {
   "cell_type": "markdown",
   "metadata": {},
   "source": [
    "--------------------------- EWMA(0.5) -----------------------------<br>\n",
    "<br>\n",
    "<br>\n",
    "-------- Predicting Pennsylvania confirmed cases --------<br>\n",
    "<br>\n",
    "Date: 2020-08-22 - Test Prediction: 697.134, Actual: 796.000<br>\n",
    "<br>\n",
    "Date: 2020-08-23 - Test Prediction: 746.567, Actual: 619.000<br>\n",
    "<br>\n",
    "Date: 2020-08-24 - Test Prediction: 682.783, Actual: 426.000<br>\n",
    "<br>\n",
    "Date: 2020-08-25 - Test Prediction: 554.392, Actual: 561.000<br>\n",
    "<br>\n",
    "Date: 2020-08-26 - Test Prediction: 557.696, Actual: 501.000<br>\n",
    "<br>\n",
    "Date: 2020-08-27 - Test Prediction: 529.348, Actual: 620.000<br>\n",
    "<br>\n",
    "Date: 2020-08-28 - Test Prediction: 574.674, Actual: 835.000<br>\n",
    "<br>\n",
    "------------------------Errors--------------------------------------<br>\n",
    "<br>\n",
    "MAPE:21.66<br>\n",
    "MSE:24461.59<br>\n",
    "<br>\n",
    "-------- Predicting Rhode Island confirmed cases --------<br>\n",
    "<br>\n",
    "Date: 2020-08-22 - Test Prediction: 77.676, Actual: 0.000<br>\n",
    "<br>\n",
    "Date: 2020-08-23 - Test Prediction: 38.838, Actual: 0.000<br>\n",
    "<br>\n",
    "Date: 2020-08-24 - Test Prediction: 19.419, Actual: 0.000<br>\n",
    "<br>\n",
    "Date: 2020-08-25 - Test Prediction: 9.709, Actual: 0.000<br>\n",
    "<br>\n",
    "Date: 2020-08-26 - Test Prediction: 4.855, Actual: 700.000<br>\n",
    "<br>\n",
    "Date: 2020-08-27 - Test Prediction: 352.427, Actual: 0.000<br>\n",
    "<br>\n",
    "Date: 2020-08-28 - Test Prediction: 176.214, Actual: 0.000<br>\n",
    "<br>\n",
    "------------------------Errors--------------------------------------<br>\n",
    "<br>\n",
    "MAPE:99.31<br>\n",
    "MSE:483226.95<br>\n",
    "<br>\n",
    "--------------------------- EWMA(0.8) -----------------------------<br>\n",
    "<br>\n",
    "<br>\n",
    "-------- Predicting Pennsylvania confirmed cases --------<br>\n",
    "<br>\n",
    "Date: 2020-08-22 - Test Prediction: 704.619, Actual: 796.000<br>\n",
    "<br>\n",
    "Date: 2020-08-23 - Test Prediction: 777.724, Actual: 619.000<br>\n",
    "<br>\n",
    "Date: 2020-08-24 - Test Prediction: 650.745, Actual: 426.000<br>\n",
    "<br>\n",
    "Date: 2020-08-25 - Test Prediction: 470.949, Actual: 561.000<br>\n",
    "<br>\n",
    "Date: 2020-08-26 - Test Prediction: 542.990, Actual: 501.000<br>\n",
    "<br>\n",
    "Date: 2020-08-27 - Test Prediction: 509.398, Actual: 620.000<br>\n",
    "<br>\n",
    "Date: 2020-08-28 - Test Prediction: 597.880, Actual: 835.000<br>\n",
    "<br>\n",
    "------------------------Errors--------------------------------------<br>\n",
    "<br>\n",
    "MAPE:22.94<br>\n",
    "MSE:23197.88<br>\n",
    "<br>\n",
    "-------- Predicting Rhode Island confirmed cases --------<br>\n",
    "<br>\n",
    "Date: 2020-08-22 - Test Prediction: 19.712, Actual: 0.000<br>\n",
    "<br>\n",
    "Date: 2020-08-23 - Test Prediction: 3.942, Actual: 0.000<br>\n",
    "<br>\n",
    "Date: 2020-08-24 - Test Prediction: 0.788, Actual: 0.000<br>\n",
    "<br>\n",
    "Date: 2020-08-25 - Test Prediction: 0.158, Actual: 0.000<br>\n",
    "<br>\n",
    "Date: 2020-08-26 - Test Prediction: 0.032, Actual: 700.000<br>\n",
    "<br>\n",
    "Date: 2020-08-27 - Test Prediction: 560.006, Actual: 0.000<br>\n",
    "<br>\n",
    "Date: 2020-08-28 - Test Prediction: 112.001, Actual: 0.000<br>\n",
    "<br>\n",
    "------------------------Errors--------------------------------------<br>\n",
    "<br>\n",
    "MAPE:100.00<br>\n",
    "MSE:489955.85"
   ]
  },
  {
   "cell_type": "markdown",
   "metadata": {},
   "source": [
    "In[73]:"
   ]
  },
  {
   "cell_type": "markdown",
   "metadata": {},
   "source": [
    "Exponentially Weighted Moving Average (Confirmed COVID Cases in August 2020)<br>\n",
    "redict deaths for 4th week of August with first three weeks data of August "
   ]
  },
  {
   "cell_type": "code",
   "execution_count": null,
   "metadata": {},
   "outputs": [],
   "source": [
    "train_PA_deaths = covid_PA_deaths[(covid_PA_deaths['Date']>='2020-08-01') & (covid_PA_deaths['Date']<='2020-08-21')].reset_index(drop=True)\n",
    "test_PA_deaths = covid_PA_deaths[(covid_PA_deaths['Date']>='2020-08-22') & (covid_PA_deaths['Date']<='2020-08-28')].reset_index(drop=True)"
   ]
  },
  {
   "cell_type": "code",
   "execution_count": null,
   "metadata": {},
   "outputs": [],
   "source": [
    "train_RI_deaths = covid_RI_deaths[(covid_RI_deaths['Date']>='2020-08-01') & (covid_RI_deaths['Date']<='2020-08-21')].reset_index(drop=True)\n",
    "test_RI_deaths = covid_RI_deaths[(covid_RI_deaths['Date']>='2020-08-22') & (covid_RI_deaths['Date']<='2020-08-28')].reset_index(drop=True)"
   ]
  },
  {
   "cell_type": "code",
   "execution_count": null,
   "metadata": {},
   "outputs": [],
   "source": [
    "print(\"\\n--------------------------- EWMA(0.5) -----------------------------\\n\")\n",
    "print(\"\\n-------- Predicting Pennsylvania deaths --------\\n\")\n",
    "ewma = EWMA(0.5)\n",
    "ewma.predict(train_PA_deaths,test_PA_deaths)\n",
    "ewma = EWMA(0.5)"
   ]
  },
  {
   "cell_type": "code",
   "execution_count": null,
   "metadata": {},
   "outputs": [],
   "source": [
    "print(\"\\n-------- Predicting Rhode Island deaths --------\\n\")\n",
    "ewma.predict(train_RI_deaths,test_RI_deaths)"
   ]
  },
  {
   "cell_type": "code",
   "execution_count": null,
   "metadata": {},
   "outputs": [],
   "source": [
    "print(\"\\n--------------------------- EWMA(0.8) -----------------------------\\n\")\n",
    "print(\"\\n-------- Predicting Pennsylvania deaths --------\\n\")\n",
    "ewma = EWMA(0.8)\n",
    "ewma.predict(train_PA_deaths,test_PA_deaths)"
   ]
  },
  {
   "cell_type": "code",
   "execution_count": null,
   "metadata": {},
   "outputs": [],
   "source": [
    "ewma = EWMA(0.8)\n",
    "print(\"\\n-------- Predicting Rhode Island deaths --------\\n\")\n",
    "ewma.predict(train_RI_deaths,test_RI_deaths)"
   ]
  },
  {
   "cell_type": "markdown",
   "metadata": {},
   "source": [
    "--------------------------- EWMA(0.5) -----------------------------<br>\n",
    "<br>\n",
    "<br>\n",
    "-------- Predicting Pennsylvania deaths --------<br>\n",
    "<br>\n",
    "Date: 2020-08-22 - Test Prediction: 19.131, Actual: 18.000<br>\n",
    "<br>\n",
    "Date: 2020-08-23 - Test Prediction: 18.565, Actual: 2.000<br>\n",
    "<br>\n",
    "Date: 2020-08-24 - Test Prediction: 10.283, Actual: 1.000<br>\n",
    "<br>\n",
    "Date: 2020-08-25 - Test Prediction: 5.641, Actual: 26.000<br>\n",
    "<br>\n",
    "Date: 2020-08-26 - Test Prediction: 15.821, Actual: 19.000<br>\n",
    "<br>\n",
    "Date: 2020-08-27 - Test Prediction: 17.410, Actual: 11.000<br>\n",
    "<br>\n",
    "Date: 2020-08-28 - Test Prediction: 14.205, Actual: 20.000<br>\n",
    "<br>\n",
    "------------------------Errors--------------------------------------<br>\n",
    "<br>\n",
    "MAPE:277.87<br>\n",
    "MSE:123.02<br>\n",
    "<br>\n",
    "-------- Predicting Rhode Island deaths --------<br>\n",
    "<br>\n",
    "Date: 2020-08-22 - Test Prediction: 0.888, Actual: 0.000<br>\n",
    "<br>\n",
    "Date: 2020-08-23 - Test Prediction: 0.444, Actual: 0.000<br>\n",
    "<br>\n",
    "Date: 2020-08-24 - Test Prediction: 0.222, Actual: 0.000<br>\n",
    "<br>\n",
    "Date: 2020-08-25 - Test Prediction: 0.111, Actual: 0.000<br>\n",
    "<br>\n",
    "Date: 2020-08-26 - Test Prediction: 0.055, Actual: 12.000<br>\n",
    "<br>\n",
    "Date: 2020-08-27 - Test Prediction: 6.028, Actual: 0.000<br>\n",
    "<br>\n",
    "Date: 2020-08-28 - Test Prediction: 3.014, Actual: 0.000<br>\n",
    "<br>\n",
    "------------------------Errors--------------------------------------<br>\n",
    "<br>\n",
    "MAPE:99.54<br>\n",
    "MSE:142.67<br>\n",
    "<br>\n",
    "--------------------------- EWMA(0.8) -----------------------------<br>\n",
    "<br>\n",
    "<br>\n",
    "-------- Predicting Pennsylvania deaths --------<br>\n",
    "<br>\n",
    "Date: 2020-08-22 - Test Prediction: 19.369, Actual: 18.000<br>\n",
    "<br>\n",
    "Date: 2020-08-23 - Test Prediction: 18.274, Actual: 2.000<br>\n",
    "<br>\n",
    "Date: 2020-08-24 - Test Prediction: 5.255, Actual: 1.000<br>\n",
    "<br>\n",
    "Date: 2020-08-25 - Test Prediction: 1.851, Actual: 26.000<br>\n",
    "<br>\n",
    "Date: 2020-08-26 - Test Prediction: 21.170, Actual: 19.000<br>\n",
    "<br>\n",
    "Date: 2020-08-27 - Test Prediction: 19.434, Actual: 11.000<br>\n",
    "<br>\n",
    "Date: 2020-08-28 - Test Prediction: 12.687, Actual: 20.000<br>\n",
    "<br>\n",
    "------------------------Errors--------------------------------------<br>\n",
    "<br>\n",
    "MAPE:209.19<br>\n",
    "MSE:142.47<br>\n",
    "<br>\n",
    "-------- Predicting Rhode Island deaths --------<br>\n",
    "<br>\n",
    "Date: 2020-08-22 - Test Prediction: 0.224, Actual: 0.000<br>\n",
    "<br>\n",
    "Date: 2020-08-23 - Test Prediction: 0.045, Actual: 0.000<br>\n",
    "<br>\n",
    "Date: 2020-08-24 - Test Prediction: 0.009, Actual: 0.000<br>\n",
    "<br>\n",
    "Date: 2020-08-25 - Test Prediction: 0.002, Actual: 0.000<br>\n",
    "<br>\n",
    "Date: 2020-08-26 - Test Prediction: 0.000, Actual: 12.000<br>\n",
    "<br>\n",
    "Date: 2020-08-27 - Test Prediction: 9.600, Actual: 0.000<br>\n",
    "<br>\n",
    "Date: 2020-08-28 - Test Prediction: 1.920, Actual: 0.000<br>\n",
    "<br>\n",
    "------------------------Errors--------------------------------------<br>\n",
    "<br>\n",
    "MAPE:100.00<br>\n",
    "MSE:143.99"
   ]
  },
  {
   "cell_type": "markdown",
   "metadata": {},
   "source": [
    "**Q2 - i ii**"
   ]
  },
  {
   "cell_type": "markdown",
   "metadata": {},
   "source": [
    "In[88]:"
   ]
  },
  {
   "cell_type": "code",
   "execution_count": null,
   "metadata": {},
   "outputs": [],
   "source": [
    "def plot_ar(X, test, predictions):\n",
    "    plt.plot(X,test,label=\"original\")\n",
    "    plt.plot(X,predictions,label=\"Predictions\")\n",
    "    plt.xlabel('Dates - 4th week of August')\n",
    "    plt.ylabel('Y')\n",
    "    plt.legend(loc='upper left')\n",
    "    plt.xticks(rotation=45)\n",
    "    plt.show()\n",
    "    \n",
    "class AR:\n",
    "    def __init__(self, p):\n",
    "        self.p = p\n",
    "        \n",
    "    def predict(self, train, test):\n",
    "        test_dates = np.array(test['Date'])\n",
    "        test_counts = np.array(test['Count'])\n",
    "        data_counts = np.hstack([train['Count'], test_counts])\n",
    "        p = self.p\n",
    "        t = data_counts.shape[0] - test_counts.shape[0] \n",
    "        error = []\n",
    "        mse = []\n",
    "        predictions = np.zeros(test.shape[0])\n",
    "        \n",
    "        for i in range(t,t+test_counts.shape[0]):\n",
    "            testx = [1]\n",
    "            testx = np.hstack([[1], data_counts[i-p:i]])\n",
    "            #calculating beta\n",
    "            X = []\n",
    "            Y = []\n",
    "            for j in range(i):\n",
    "                if(j+p < i):\n",
    "                    X.append([1])\n",
    "                    X[j] = X[j]+list(data_counts[j:j+p])\n",
    "                    Y.append(data_counts[j+p])\n",
    "                else:\n",
    "                    break\n",
    "            beta=np.matmul(np.linalg.inv(np.matmul(np.transpose(X),X)),np.matmul(np.transpose(X),Y))                        \n",
    "            \n",
    "            y_t_hat = predictions[i-t] = np.dot(testx,beta)\n",
    "            y_t = data_counts[i]\n",
    "            \n",
    "            #Ignoring zero data to avoid infinite error\n",
    "            if y_t!=0:\n",
    "                error.append(abs(y_t_hat-y_t)*100/y_t)\n",
    "                mse.append((y_t_hat - y_t)**2)\n",
    "            print(\"Date: \" + str(test_dates[i-t]) + \" - Test prediction: \" + \"{:5.3f}\".format(predictions[i-t]) + \" | Actual: \" + str(test_counts[i-t]))\n",
    "            \n",
    "            \n",
    "        plot_ar(test_dates, test_counts, predictions)\n",
    "        print(\"------------------------Errors--------------------------------------\")\n",
    "        print(\"MAPE: \" + \"{:5.3f}\".format(np.mean(error)))\n",
    "        print(\"MSE : \" + \"{:5.3f}\".format(np.mean(mse)))\n",
    "        return np.mean(error)"
   ]
  },
  {
   "cell_type": "markdown",
   "metadata": {},
   "source": [
    "In[89]:"
   ]
  },
  {
   "cell_type": "markdown",
   "metadata": {},
   "source": [
    "Auto Regression: (Confirmed COVID Cases in August 2020)<br>\n",
    "redict deaths for 4th week of August with first three weeks data of August "
   ]
  },
  {
   "cell_type": "code",
   "execution_count": null,
   "metadata": {},
   "outputs": [],
   "source": [
    "train_PA_confirmed = covid_PA_confirmed[(covid_PA_confirmed['Date']>='2020-08-01') & (covid_PA_confirmed['Date']<='2020-08-21')].reset_index(drop=True)\n",
    "test_PA_confirmed = covid_PA_confirmed[(covid_PA_confirmed['Date']>='2020-08-22') & (covid_PA_confirmed['Date']<='2020-08-28')].reset_index(drop=True)"
   ]
  },
  {
   "cell_type": "code",
   "execution_count": null,
   "metadata": {},
   "outputs": [],
   "source": [
    "train_RI_confirmed = covid_RI_confirmed[(covid_RI_confirmed['Date']>='2020-08-01') & (covid_RI_confirmed['Date']<='2020-08-21')].reset_index(drop=True)\n",
    "test_RI_confirmed = covid_RI_confirmed[(covid_RI_confirmed['Date']>='2020-08-22') & (covid_RI_confirmed['Date']<='2020-08-28')].reset_index(drop=True)"
   ]
  },
  {
   "cell_type": "code",
   "execution_count": null,
   "metadata": {},
   "outputs": [],
   "source": [
    "print(\"\\n--------------------------- AR(3) -----------------------------\\n\")"
   ]
  },
  {
   "cell_type": "code",
   "execution_count": null,
   "metadata": {},
   "outputs": [],
   "source": [
    "print(\"\\n-------- Predicting Pennsylvania confirmed cases --------\\n\")\n",
    "ar3 = AR(3)\n",
    "ar3.predict(train_PA_confirmed,test_PA_confirmed)"
   ]
  },
  {
   "cell_type": "code",
   "execution_count": null,
   "metadata": {},
   "outputs": [],
   "source": [
    "print(\"\\n-------- Predicting Rhode Island confirmed cases --------\\n\")\n",
    "ar3 = AR(3)\n",
    "ar3.predict(train_RI_confirmed,test_RI_confirmed)"
   ]
  },
  {
   "cell_type": "code",
   "execution_count": null,
   "metadata": {},
   "outputs": [],
   "source": [
    "print(\"\\n--------------------------- AR(5) -----------------------------\\n\")"
   ]
  },
  {
   "cell_type": "code",
   "execution_count": null,
   "metadata": {},
   "outputs": [],
   "source": [
    "print(\"\\n-------- Predicting Pennsylvania confirmed cases --------\\n\")\n",
    "ar3 = AR(5)\n",
    "ar3.predict(train_PA_confirmed,test_PA_confirmed)"
   ]
  },
  {
   "cell_type": "code",
   "execution_count": null,
   "metadata": {},
   "outputs": [],
   "source": [
    "print(\"\\n-------- Predicting Rhode Island confirmed cases --------\\n\")\n",
    "ar3 = AR(5)\n",
    "ar3.predict(train_RI_confirmed,test_RI_confirmed)"
   ]
  },
  {
   "cell_type": "markdown",
   "metadata": {},
   "source": [
    "--------------------------- AR(3) -----------------------------<br>\n",
    "<br>\n",
    "<br>\n",
    "-------- Predicting Pennsylvania confirmed cases --------<br>\n",
    "<br>\n",
    "Date: 2020-08-22 - Test prediction: 795.688 | Actual: 796.0<br>\n",
    "<br>\n",
    "Date: 2020-08-23 - Test prediction: 737.243 | Actual: 619.0<br>\n",
    "<br>\n",
    "Date: 2020-08-24 - Test prediction: 760.136 | Actual: 426.0<br>\n",
    "<br>\n",
    "Date: 2020-08-25 - Test prediction: 637.590 | Actual: 561.0<br>\n",
    "<br>\n",
    "Date: 2020-08-26 - Test prediction: 655.719 | Actual: 501.0<br>\n",
    "<br>\n",
    "Date: 2020-08-27 - Test prediction: 670.987 | Actual: 620.0<br>\n",
    "<br>\n",
    "Date: 2020-08-28 - Test prediction: 653.981 | Actual: 835.0<br>\n",
    "<br>\n",
    "------------------------Errors--------------------------------------<br>\n",
    "<br>\n",
    "MAPE: 24.573<br>\n",
    "MSE : 27257.157<br>\n",
    "<br>\n",
    "-------- Predicting Rhode Island confirmed cases --------<br>\n",
    "<br>\n",
    "Date: 2020-08-22 - Test prediction: 12.529 | Actual: 0.0<br>\n",
    "<br>\n",
    "Date: 2020-08-23 - Test prediction: 192.698 | Actual: 0.0<br>\n",
    "<br>\n",
    "Date: 2020-08-24 - Test prediction: 175.213 | Actual: 0.0<br>\n",
    "<br>\n",
    "Date: 2020-08-25 - Test prediction: 160.637 | Actual: 0.0<br>\n",
    "<br>\n",
    "Date: 2020-08-26 - Test prediction: 148.300 | Actual: 700.0<br>\n",
    "<br>\n",
    "Date: 2020-08-27 - Test prediction: -15.950 | Actual: 0.0<br>\n",
    "<br>\n",
    "Date: 2020-08-28 - Test prediction: -15.944 | Actual: 0.0<br>\n",
    "<br>\n",
    "------------------------Errors--------------------------------------<br>\n",
    "<br>\n",
    "MAPE: 78.814<br>\n",
    "MSE : 304372.448<br>\n",
    "<br>\n",
    "--------------------------- AR(5) -----------------------------<br>\n",
    "<br>\n",
    "<br>\n",
    "-------- Predicting Pennsylvania confirmed cases --------<br>\n",
    "<br>\n",
    "Date: 2020-08-22 - Test prediction: 806.785 | Actual: 796.0<br>\n",
    "<br>\n",
    "Date: 2020-08-23 - Test prediction: 774.646 | Actual: 619.0<br>\n",
    "<br>\n",
    "Date: 2020-08-24 - Test prediction: 739.230 | Actual: 426.0<br>\n",
    "<br>\n",
    "Date: 2020-08-25 - Test prediction: 586.330 | Actual: 561.0<br>\n",
    "<br>\n",
    "Date: 2020-08-26 - Test prediction: 585.629 | Actual: 501.0<br>\n",
    "<br>\n",
    "Date: 2020-08-27 - Test prediction: 711.559 | Actual: 620.0<br>\n",
    "<br>\n",
    "Date: 2020-08-28 - Test prediction: 680.020 | Actual: 835.0<br>\n",
    "<br>\n",
    "------------------------Errors--------------------------------------<br>\n",
    "<br>\n",
    "MAPE: 22.109<br>\n",
    "MSE : 23237.213<br>\n",
    "<br>\n",
    "-------- Predicting Rhode Island confirmed cases --------<br>\n",
    "<br>\n",
    "Date: 2020-08-22 - Test prediction: 21.037 | Actual: 0.0<br>\n",
    "<br>\n",
    "Date: 2020-08-23 - Test prediction: 21.022 | Actual: 0.0<br>\n",
    "<br>\n",
    "Date: 2020-08-24 - Test prediction: 21.007 | Actual: 0.0<br>\n",
    "<br>\n",
    "Date: 2020-08-25 - Test prediction: 322.942 | Actual: 0.0<br>\n",
    "<br>\n",
    "Date: 2020-08-26 - Test prediction: 258.800 | Actual: 700.0<br>\n",
    "<br>\n",
    "Date: 2020-08-27 - Test prediction: -28.212 | Actual: 0.0<br>\n",
    "<br>\n",
    "Date: 2020-08-28 - Test prediction: -28.187 | Actual: 0.0<br>\n",
    "<br>\n",
    "------------------------Errors--------------------------------------<br>\n",
    "<br>\n",
    "MAPE: 63.029<br>\n",
    "MSE : 194657.654"
   ]
  },
  {
   "cell_type": "markdown",
   "metadata": {},
   "source": [
    "In[90]:"
   ]
  },
  {
   "cell_type": "markdown",
   "metadata": {},
   "source": [
    "Auto Regression: (Confirmed COVID Cases in March 2020)<br>\n",
    "time series for the month of March (03/01/2020 to 03/31/2020)<br>\n",
    "we will predict Confirmed Covid Cases<br>\n",
    "for all Counties<br>\n",
    "print(\"Auto Regression: (Confirmed COVID Cases in March 2020)\")"
   ]
  },
  {
   "cell_type": "code",
   "execution_count": null,
   "metadata": {},
   "outputs": [],
   "source": [
    "train_PA_deaths = covid_PA_deaths[(covid_PA_deaths['Date']>='2020-08-01') & (covid_PA_deaths['Date']<='2020-08-21')].reset_index(drop=True)\n",
    "test_PA_deaths = covid_PA_deaths[(covid_PA_deaths['Date']>='2020-08-22') & (covid_PA_deaths['Date']<='2020-08-28')].reset_index(drop=True)"
   ]
  },
  {
   "cell_type": "code",
   "execution_count": null,
   "metadata": {},
   "outputs": [],
   "source": [
    "train_RI_deaths = covid_RI_deaths[(covid_RI_deaths['Date']>='2020-08-01') & (covid_RI_deaths['Date']<='2020-08-21')].reset_index(drop=True)\n",
    "test_RI_deaths = covid_RI_deaths[(covid_RI_deaths['Date']>='2020-08-22') & (covid_RI_deaths['Date']<='2020-08-28')].reset_index(drop=True)"
   ]
  },
  {
   "cell_type": "code",
   "execution_count": null,
   "metadata": {},
   "outputs": [],
   "source": [
    "print(\"\\n--------------------------- AR(3) -----------------------------\\n\")"
   ]
  },
  {
   "cell_type": "code",
   "execution_count": null,
   "metadata": {},
   "outputs": [],
   "source": [
    "print(\"\\n-------- Predicting Pennsylvania deaths --------\\n\")\n",
    "ar3 = AR(3)\n",
    "ar3.predict(train_PA_deaths,test_PA_deaths)"
   ]
  },
  {
   "cell_type": "code",
   "execution_count": null,
   "metadata": {},
   "outputs": [],
   "source": [
    "print(\"\\n-------- Predicting Rhode Island deaths --------\\n\")\n",
    "ar3 = AR(3)\n",
    "ar3.predict(train_RI_deaths,test_RI_deaths)"
   ]
  },
  {
   "cell_type": "code",
   "execution_count": null,
   "metadata": {},
   "outputs": [],
   "source": [
    "print(\"\\n--------------------------- AR(5) -----------------------------\\n\")"
   ]
  },
  {
   "cell_type": "code",
   "execution_count": null,
   "metadata": {},
   "outputs": [],
   "source": [
    "print(\"\\n-------- Predicting Pennsylvania deaths --------\\n\")\n",
    "ar3 = AR(5)\n",
    "ar3.predict(train_PA_deaths,test_PA_deaths)"
   ]
  },
  {
   "cell_type": "code",
   "execution_count": null,
   "metadata": {},
   "outputs": [],
   "source": [
    "print(\"\\n-------- Predicting Rhode Island deaths --------\\n\")\n",
    "ar3 = AR(5)\n",
    "ar3.predict(train_RI_deaths,test_RI_deaths)"
   ]
  },
  {
   "cell_type": "markdown",
   "metadata": {},
   "source": [
    "--------------------------- AR(3) -----------------------------<br>\n",
    "<br>\n",
    "<br>\n",
    "-------- Predicting Pennsylvania deaths --------<br>\n",
    "<br>\n",
    "Date: 2020-08-22 - Test prediction: 17.888 | Actual: 18.0<br>\n",
    "<br>\n",
    "Date: 2020-08-23 - Test prediction: 19.717 | Actual: 2.0<br>\n",
    "<br>\n",
    "Date: 2020-08-24 - Test prediction: 16.444 | Actual: 1.0<br>\n",
    "<br>\n",
    "Date: 2020-08-25 - Test prediction: 17.587 | Actual: 26.0<br>\n",
    "<br>\n",
    "Date: 2020-08-26 - Test prediction: 26.527 | Actual: 19.0<br>\n",
    "<br>\n",
    "Date: 2020-08-27 - Test prediction: 20.524 | Actual: 11.0<br>\n",
    "<br>\n",
    "Date: 2020-08-28 - Test prediction: 14.622 | Actual: 20.0<br>\n",
    "<br>\n",
    "<br>\n",
    "------------------------Errors--------------------------------------<br>\n",
    "<br>\n",
    "MAPE: 373.762<br>\n",
    "MSE : 114.213<br>\n",
    "<br>\n",
    "-------- Predicting Rhode Island deaths --------<br>\n",
    "<br>\n",
    "Date: 2020-08-22 - Test prediction: 0.970 | Actual: 0.0<br>\n",
    "<br>\n",
    "Date: 2020-08-23 - Test prediction: 2.213 | Actual: 0.0<br>\n",
    "<br>\n",
    "Date: 2020-08-24 - Test prediction: 2.016 | Actual: 0.0<br>\n",
    "<br>\n",
    "Date: 2020-08-25 - Test prediction: 1.851 | Actual: 0.0<br>\n",
    "<br>\n",
    "Date: 2020-08-26 - Test prediction: 1.711 | Actual: 12.0<br>\n",
    "<br>\n",
    "Date: 2020-08-27 - Test prediction: 3.749 | Actual: 0.0<br>\n",
    "<br>\n",
    "Date: 2020-08-28 - Test prediction: -0.030 | Actual: 0.0<br>\n",
    "<br>\n",
    "<br>\n",
    "------------------------Errors--------------------------------------<br>\n",
    "<br>\n",
    "MAPE: 85.742<br>\n",
    "MSE : 105.865<br>\n",
    "<br>\n",
    "--------------------------- AR(5) -----------------------------<br>\n",
    "<br>\n",
    "<br>\n",
    "-------- Predicting Pennsylvania deaths --------<br>\n",
    "<br>\n",
    "Date: 2020-08-22 - Test prediction: 21.082 | Actual: 18.0<br>\n",
    "<br>\n",
    "Date: 2020-08-23 - Test prediction: 14.471 | Actual: 2.0<br>\n",
    "<br>\n",
    "Date: 2020-08-24 - Test prediction: 18.595 | Actual: 1.0<br>\n",
    "<br>\n",
    "Date: 2020-08-25 - Test prediction: 24.901 | Actual: 26.0<br>\n",
    "<br>\n",
    "Date: 2020-08-26 - Test prediction: 29.952 | Actual: 19.0<br>\n",
    "<br>\n",
    "Date: 2020-08-27 - Test prediction: 24.052 | Actual: 11.0<br>\n",
    "<br>\n",
    "Date: 2020-08-28 - Test prediction: 24.223 | Actual: 20.0<br>\n",
    "<br>\n",
    "------------------------Errors--------------------------------------<br>\n",
    "<br>\n",
    "MAPE: 371.691<br>\n",
    "MSE : 111.996<br>\n",
    "<br>\n",
    "-------- Predicting Rhode Island deaths --------<br>\n",
    "<br>\n",
    "Date: 2020-08-22 - Test prediction: 2.226 | Actual: 0.0<br>\n",
    "<br>\n",
    "Date: 2020-08-23 - Test prediction: 2.228 | Actual: 0.0<br>\n",
    "<br>\n",
    "Date: 2020-08-24 - Test prediction: 0.909 | Actual: 0.0<br>\n",
    "<br>\n",
    "Date: 2020-08-25 - Test prediction: 2.938 | Actual: 0.0<br>\n",
    "<br>\n",
    "Date: 2020-08-26 - Test prediction: 2.548 | Actual: 12.0<br>\n",
    "<br>\n",
    "Date: 2020-08-27 - Test prediction: 4.419 | Actual: 0.0<br>\n",
    "<br>\n",
    "Date: 2020-08-28 - Test prediction: -0.202 | Actual: 0.0<br>\n",
    "<br>\n",
    "------------------------Errors--------------------------------------<br>\n",
    "<br>\n",
    "MAPE: 78.769<br>\n",
    "MSE : 89.346"
   ]
  },
  {
   "cell_type": "code",
   "execution_count": null,
   "metadata": {},
   "outputs": [],
   "source": [
    "covid_PA_confirmed_feb21 = covid_PA_confirmed[377:404].to_numpy()\n",
    "covid_RI_confirmed_feb21 = covid_RI_confirmed[377:404].to_numpy()\n",
    "covid_PA_deaths_feb21 = covid_PA_deaths[377:404].to_numpy()\n",
    "covid_RI_deaths_feb21 = covid_RI_deaths[377:404].to_numpy()"
   ]
  },
  {
   "cell_type": "code",
   "execution_count": null,
   "metadata": {},
   "outputs": [],
   "source": [
    "covid_PA_confirmed_mar21 = covid_PA_confirmed[404:435].to_numpy()\n",
    "covid_RI_confirmed_mar21 = covid_RI_confirmed[404:435].to_numpy()\n",
    "covid_PA_deaths_mar21 = covid_PA_deaths[404:435].to_numpy()\n",
    "covid_RI_deaths_mar21 = covid_RI_deaths[404:435].to_numpy()\n",
    "# print(covid_RI_deaths_mar21)"
   ]
  },
  {
   "cell_type": "markdown",
   "metadata": {},
   "source": [
    "In[18]:"
   ]
  },
  {
   "cell_type": "code",
   "execution_count": null,
   "metadata": {},
   "outputs": [],
   "source": [
    "def corrected_variance(arr):\n",
    "    square_sum = 0\n",
    "    mean = np.mean(arr)\n",
    "    n = len(arr)\n",
    "    for i in range(n):\n",
    "        square_sum = square_sum + (arr[i] -mean)*(arr[i]-mean)\n",
    "    return square_sum/(n-1)"
   ]
  },
  {
   "cell_type": "markdown",
   "metadata": {},
   "source": [
    "In[19]:"
   ]
  },
  {
   "cell_type": "code",
   "execution_count": null,
   "metadata": {},
   "outputs": [],
   "source": [
    "def walds_test_1sample(dist1,dist2, threshold, descr):\n",
    "    \n",
    "    dist1_mean = np.mean(dist1)\n",
    "    dist2_mean = np.mean(dist2)\n",
    "    numerator = dist2_mean - dist1_mean\n",
    "    denominator = np.sqrt(dist2_mean/dist2.size)\n",
    "    result = numerator/denominator\n",
    "    w = np.abs(result)\n",
    "    if(w>threshold):\n",
    "      print(\"walds 1 sample testing for mean of \"+str(descr)+\" cases is w=\"+str(w) +\" which is greater than z_alpha/2 = \"+str(threshold)+\" so reject the NULL hypothesis\");\n",
    "    else:\n",
    "      print(\"walds 1 sample testing for mean of \"+str(descr)+\" cases is  w=\"+str(w)+ \" which is less than z_alpha/2 = \"+str(threshold)+\" so accept the NULL hypothesis\")"
   ]
  },
  {
   "cell_type": "markdown",
   "metadata": {},
   "source": [
    "In[20]:"
   ]
  },
  {
   "cell_type": "code",
   "execution_count": null,
   "metadata": {},
   "outputs": [],
   "source": [
    "def walds_test_2sample(dist1, dist2, threshold, descr):\n",
    "    dist1_mean = np.mean(dist1)\n",
    "    dist2_mean = np.mean(dist2)\n",
    "    \n",
    "    numer = dist2_mean-dist1_mean\n",
    "    denom = np.sqrt(dist2_mean/dist2.size + dist1_mean/dist1.size)\n",
    "    w = abs(numer/denom)\n",
    "    if(w>threshold):\n",
    "      print(\"walds 2 sample testing for mean of \"+str(descr)+\" cases is w=\"+str(w) +\" which is greater than z_alpha/2 = \"+str(threshold)+\" so reject the NULL hypothesis\");\n",
    "    else:\n",
    "      print(\"walds 2 sample testing for mean of \"+str(descr)+\" cases is  w=\"+str(w)+ \" which is less than z_alpha/2 = \"+str(threshold)+\" so accept the NULL hypothesis\")"
   ]
  },
  {
   "cell_type": "markdown",
   "metadata": {},
   "source": [
    "In[21]:"
   ]
  },
  {
   "cell_type": "markdown",
   "metadata": {},
   "source": [
    " z test"
   ]
  },
  {
   "cell_type": "code",
   "execution_count": null,
   "metadata": {},
   "outputs": [],
   "source": [
    "def z_test(dist1, dist2, full, zthreshold, descr):\n",
    "    dist1_mean = np.mean(dist1)\n",
    "    dist2_mean = np.mean(dist2)\n",
    "    \n",
    "    numer = dist2_mean - dist1_mean\n",
    "    denom = np.sqrt(corrected_variance(full)/full.size)\n",
    "    \n",
    "    z = abs(numer/denom)\n",
    "    \n",
    "    if(z>zthreshold):\n",
    "      print(\"z test 1 sample testing for mean of \"+str(descr)+\" cases is w=\"+str(z) +\" which is greater than z_alpha/2 = \"+str(zthreshold)+\" so reject the NULL hypothesis\");\n",
    "    else:\n",
    "      print(\"z test 1 sample testing for mean of \"+str(descr)+\" cases is  w=\"+str(z)+ \" which is less than z_alpha/2 = \"+str(zthreshold)+\" so accept the NULL hypothesis\")"
   ]
  },
  {
   "cell_type": "markdown",
   "metadata": {},
   "source": [
    "In[22]:"
   ]
  },
  {
   "cell_type": "markdown",
   "metadata": {},
   "source": [
    "t test"
   ]
  },
  {
   "cell_type": "code",
   "execution_count": null,
   "metadata": {},
   "outputs": [],
   "source": [
    "def t_test_1sample(dist1, dist2, tthreshold, descr):\n",
    "    dist1_mean = np.mean(dist1)\n",
    "    dist2_mean = np.mean(dist2)\n",
    "    \n",
    "    numer = dist2_mean - dist1_mean\n",
    "    denom = np.sqrt(np.var(dist2)/dist2.size)\n",
    "    \n",
    "    t = abs(numer/denom)\n",
    "    \n",
    "    if(t>tthreshold):\n",
    "      print(\"t test 1 sample testing for mean of \"+str(descr)+\" cases is w=\"+str(t) +\" which is greater than t threshold = \"+str(tthreshold)+\" so reject the NULL hypothesis\");\n",
    "    else:\n",
    "      print(\"t test 1 sample testing for mean of \"+str(descr)+\" cases is  w=\"+str(t)+ \" which is less than t thresfold = \"+str(tthreshold)+\" so accept the NULL hypothesis\")"
   ]
  },
  {
   "cell_type": "markdown",
   "metadata": {},
   "source": [
    "In[23]:"
   ]
  },
  {
   "cell_type": "markdown",
   "metadata": {},
   "source": [
    "t test"
   ]
  },
  {
   "cell_type": "code",
   "execution_count": null,
   "metadata": {},
   "outputs": [],
   "source": [
    "def t_test_2sample_unpaired(dist1, dist2,  tthreshold, descr):\n",
    "    dist1_mean = np.mean(dist1)\n",
    "    dist2_mean = np.mean(dist2)\n",
    "    \n",
    "    numer = dist2_mean - dist1_mean\n",
    "    denom = np.sqrt(np.var(dist2)/dist2.size + np.var(dist1)/dist1.size)\n",
    "    \n",
    "    t = abs(numer/denom)\n",
    "    \n",
    "    if(t>tthreshold):\n",
    "      print(\"t test 2 sample testing for mean of \"+str(descr)+\" cases is w=\"+str(t) +\" which is greater than t threshold = \"+str(tthreshold)+\" so reject the NULL hypothesis\");\n",
    "    else:\n",
    "      print(\"t test 2 sample testing for mean of \"+str(descr)+\" cases is  w=\"+str(t)+ \" which is less than t thresfold = \"+str(tthreshold)+\" so accept the NULL hypothesis\")"
   ]
  },
  {
   "cell_type": "markdown",
   "metadata": {},
   "source": [
    "In[24]:"
   ]
  },
  {
   "cell_type": "markdown",
   "metadata": {},
   "source": [
    "walds 1 cases"
   ]
  },
  {
   "cell_type": "code",
   "execution_count": null,
   "metadata": {},
   "outputs": [],
   "source": [
    "walds_test_1sample(covid_PA_confirmed_feb21, covid_PA_confirmed_mar21, 1.962, \"PA confirmed\")\n",
    "walds_test_1sample(covid_RI_confirmed_feb21, covid_RI_confirmed_mar21, 1.962, \"RI confirmed\")"
   ]
  },
  {
   "cell_type": "code",
   "execution_count": null,
   "metadata": {},
   "outputs": [],
   "source": [
    "walds_test_1sample(covid_PA_deaths_feb21, covid_PA_deaths_mar21, 1.962, \"PA death\")\n",
    "walds_test_1sample(covid_RI_deaths_feb21, covid_RI_deaths_mar21, 1.962, \"RI death\")"
   ]
  },
  {
   "cell_type": "markdown",
   "metadata": {},
   "source": [
    "In[25]:"
   ]
  },
  {
   "cell_type": "markdown",
   "metadata": {},
   "source": [
    "z test cases"
   ]
  },
  {
   "cell_type": "code",
   "execution_count": null,
   "metadata": {},
   "outputs": [],
   "source": [
    "z_test(covid_PA_confirmed_feb21, covid_PA_confirmed_mar21, covid_PA_confirmed.to_numpy(), 1.962, \"PA confirmed\")\n",
    "z_test(covid_RI_confirmed_feb21, covid_RI_confirmed_mar21, covid_RI_confirmed.to_numpy(), 1.962, \"RI confirmed\")"
   ]
  },
  {
   "cell_type": "code",
   "execution_count": null,
   "metadata": {},
   "outputs": [],
   "source": [
    "z_test(covid_PA_deaths_feb21, covid_PA_deaths_mar21, covid_PA_deaths.to_numpy(), 1.962, \"PA death\")\n",
    "z_test(covid_RI_deaths_feb21, covid_RI_deaths_mar21, covid_RI_deaths.to_numpy(), 1.962, \"RI death\")"
   ]
  },
  {
   "cell_type": "markdown",
   "metadata": {},
   "source": [
    "In[26]:"
   ]
  },
  {
   "cell_type": "markdown",
   "metadata": {},
   "source": [
    "t test 1 sample cases"
   ]
  },
  {
   "cell_type": "code",
   "execution_count": null,
   "metadata": {},
   "outputs": [],
   "source": [
    "t_test_1sample(covid_PA_confirmed_feb21, covid_PA_confirmed_mar21, 1.695, \"PA confirmed\")\n",
    "t_test_1sample(covid_RI_confirmed_feb21, covid_RI_confirmed_mar21, 1.695, \"RI confirmed\")"
   ]
  },
  {
   "cell_type": "code",
   "execution_count": null,
   "metadata": {},
   "outputs": [],
   "source": [
    "t_test_1sample(covid_PA_deaths_feb21, covid_PA_deaths_mar21, 1.695, \"PA death\")\n",
    "t_test_1sample(covid_RI_deaths_feb21, covid_RI_deaths_mar21, 1.695, \"RI death\")"
   ]
  },
  {
   "cell_type": "markdown",
   "metadata": {},
   "source": [
    "In[27]:"
   ]
  },
  {
   "cell_type": "markdown",
   "metadata": {},
   "source": [
    "walds 2 sample cases"
   ]
  },
  {
   "cell_type": "code",
   "execution_count": null,
   "metadata": {},
   "outputs": [],
   "source": [
    "walds_test_2sample(covid_PA_confirmed_feb21, covid_PA_confirmed_mar21, 1.962, \"PA confirmed\")\n",
    "walds_test_2sample(covid_RI_confirmed_feb21, covid_RI_confirmed_mar21, 1.962, \"RI confirmed\")"
   ]
  },
  {
   "cell_type": "code",
   "execution_count": null,
   "metadata": {},
   "outputs": [],
   "source": [
    "walds_test_2sample(covid_PA_deaths_feb21, covid_PA_deaths_mar21, 1.962, \"PA death\")\n",
    "walds_test_2sample(covid_RI_deaths_feb21, covid_RI_deaths_mar21, 1.962, \"RI death\")"
   ]
  },
  {
   "cell_type": "markdown",
   "metadata": {},
   "source": [
    "In[28]:"
   ]
  },
  {
   "cell_type": "markdown",
   "metadata": {},
   "source": [
    "t test 1 sample cases"
   ]
  },
  {
   "cell_type": "code",
   "execution_count": null,
   "metadata": {},
   "outputs": [],
   "source": [
    "t_test_2sample_unpaired(covid_PA_confirmed_feb21, covid_PA_confirmed_mar21, 1.672, \"PA confirmed\")\n",
    "t_test_2sample_unpaired(covid_RI_confirmed_feb21, covid_RI_confirmed_mar21, 1.672, \"RI confirmed\")"
   ]
  },
  {
   "cell_type": "code",
   "execution_count": null,
   "metadata": {},
   "outputs": [],
   "source": [
    "t_test_2sample_unpaired(covid_PA_deaths_feb21, covid_PA_deaths_mar21, 1.672, \"PA death\")\n",
    "t_test_2sample_unpaired(covid_RI_deaths_feb21, covid_RI_deaths_mar21, 1.672, \"RI death\")"
   ]
  },
  {
   "cell_type": "markdown",
   "metadata": {},
   "source": [
    "**Applicability Of Tests:**<br>\n",
    "<br>\n",
    "**Wald's Test:**<br>\n",
    "   1. We require an asymptomatical normal estimator for wald's test and as n = 28, 30 is fairly low, this is not the ideal case       for assumption of CLT for sample mean. Therefore, this test is not applicable.<br>\n",
    "<br>\n",
    "   2. The above reasoning works well for 2 sample test as well, since we need both estimators to be asymptomatically Normal.           Therfore this test is also not applicable.<br>\n",
    "<br>\n",
    "**Z-test:**<br>\n",
    "<br>\n",
    "   1. As we need to use true standard deviation in z-test , the dataset size is just 438, which is not particularly large.             Neither the  datasets are normally distributed. Therefore this testis not applicable.<br>\n",
    "<br>\n",
    "**T-test:**<br>\n",
    "<br>\n",
    "   1. For one sample , similarly to above tests, the data inferred here is neither normally distributed nor large enough.             Therefore the test is not applicable.<br>\n",
    "   2. For unpaired 2 sample test, distributions need to be independent and normally distributed. But that doesnt seem the same         in above case. Therefore the test is not applicable."
   ]
  },
  {
   "cell_type": "code",
   "execution_count": null,
   "metadata": {},
   "outputs": [],
   "source": [
    "data = covid_data\n",
    "data_oct_to_dec = data[data[\"Date\"] >= '2020-10-01'][data[\"Date\"] <= '2020-12-31']"
   ]
  },
  {
   "cell_type": "code",
   "execution_count": null,
   "metadata": {},
   "outputs": [],
   "source": [
    "pa_confirmed = np.array(data_oct_to_dec[\"PA confirmed\"]).astype('int')\n",
    "ri_confirmed = np.array(data_oct_to_dec[\"RI confirmed\"]).astype('int')"
   ]
  },
  {
   "cell_type": "code",
   "execution_count": null,
   "metadata": {},
   "outputs": [],
   "source": [
    "pa_deaths = np.array(data_oct_to_dec[\"PA deaths\"]).astype('int')\n",
    "ri_deaths = np.array(data_oct_to_dec[\"RI deaths\"]).astype('int')"
   ]
  },
  {
   "cell_type": "markdown",
   "metadata": {},
   "source": [
    "In[461]:"
   ]
  },
  {
   "cell_type": "code",
   "execution_count": null,
   "metadata": {},
   "outputs": [],
   "source": [
    "import numpy as np\n",
    "import pandas as pd\n",
    "import matplotlib.pyplot as plt"
   ]
  },
  {
   "cell_type": "code",
   "execution_count": null,
   "metadata": {},
   "outputs": [],
   "source": [
    "from scipy.stats import poisson, binom, geom"
   ]
  },
  {
   "cell_type": "markdown",
   "metadata": {},
   "source": [
    "**K-S Test 1-sample and 2-Sample**<br>\n",
    "<br>\n",
    "For 1-sample we are using MME to find the parameter estimates for PA data and testing if that is same for RI data"
   ]
  },
  {
   "cell_type": "markdown",
   "metadata": {},
   "source": [
    "In[462]:"
   ]
  },
  {
   "cell_type": "code",
   "execution_count": null,
   "metadata": {},
   "outputs": [],
   "source": [
    "def get_eCDF(data, s, e):\n",
    "    \n",
    "    n = len(data)\n",
    "    cdf = [0.0]\n",
    "    \n",
    "    for i in range(0, n):\n",
    "        cdf = cdf + [cdf[len(cdf)-1] + (1/n)]\n",
    "        \n",
    "    return cdf\n",
    "    \n",
    "def plot_eCDF(data, cdf, label, s, e):\n",
    "    \n",
    "    # Since the ecdf has two values for some x, we have to create new x and y lists from cdf\n",
    "    n = len(data)\n",
    "    x, y = [s], [0]\n",
    "    \n",
    "    \n",
    "    for i in range(0, n):\n",
    "        x = x + [data[i], data[i]]\n",
    "        y = y + [cdf[i], cdf[i+1]]\n",
    "      \n",
    "    x = x + [e]\n",
    "    y = y + [1.0]  \n",
    "    \n",
    "    \n",
    "    plt.plot(x, y, label=label)\n",
    "    plt.xlabel('x')\n",
    "    plt.ylabel('CDF')\n",
    "    plt.legend(loc='best')\n",
    "    \n",
    "def cdf_at_x(data, cdf, x):\n",
    "    \n",
    "    # finding the first element larger than the x and then we take cdf value at that point\n",
    "    x_i = -1\n",
    "    for i, d in enumerate(data):\n",
    "        if d >= x:\n",
    "            x_i = i\n",
    "            break\n",
    "            \n",
    "    return cdf[x_i]"
   ]
  },
  {
   "cell_type": "code",
   "execution_count": null,
   "metadata": {},
   "outputs": [],
   "source": [
    "def k_s_test_2_sample(pa, ri, c = 0.05):\n",
    "    \n",
    "    # Sort the data to get the CDFs\n",
    "    pa, ri = np.sort(pa), np.sort(ri)\n",
    "    \n",
    "    s = min(pa[0], ri[0]) - 100\n",
    "    e = max(pa[len(pa) - 1], ri[len(ri) - 1]) + 100\n",
    "    \n",
    "    \n",
    "    F_pa = get_eCDF(pa, s, e)\n",
    "    F_ri = get_eCDF(ri, s, e)   \n",
    "    \n",
    "    fig= plt.figure(figsize=(12,9))\n",
    "    plt.grid(True)\n",
    "    plt.title(\"K-S Test 2-Sample PA vs RI\")\n",
    "    plot_eCDF(pa, F_pa, \"PA\", s, e)\n",
    "    plot_eCDF(ri, F_ri, \"RI\", s, e)  \n",
    "    \n",
    "    # pa CDF at ri change points\n",
    "    F_pa = [cdf_at_x(pa, F_pa, cp) for cp in ri]\n",
    "    F_ri_minus, F_ri_plus = F_ri[0:-1], F_ri[1:]\n",
    "    ks_stat = ks_index = 0\n",
    "    \n",
    "    # y value for the vertical line at ks_index\n",
    "    ymin = 0\n",
    "    \n",
    "    for i in range(0, len(F_pa)):\n",
    "        if abs(F_pa[i] - F_ri_minus[i]) > ks_stat:\n",
    "            ks_stat = abs(F_pa[i] - F_ri_minus[i])\n",
    "            ks_index = i\n",
    "            ymin = min(F_ri_minus[ks_index], F_pa[ks_index])\n",
    "        if abs(F_pa[i] - F_ri_plus[i]) > ks_stat:\n",
    "            ks_stat = abs(F_pa[i] - F_ri_plus[i])\n",
    "            ks_index = i\n",
    "            ymin = min(F_ri_plus[ks_index], F_pa[ks_index])\n",
    "    \n",
    "    print(\"ks_stat is {} at {}, where as c is {}\".format(ks_stat, ri[ks_index], c))\n",
    "    if ks_stat > c:\n",
    "        print(\"d > c, So, we reject Null Hypothesis\")\n",
    "    else:\n",
    "        print(\"d <= c, So, we accept Null Hypothesis\")\n",
    "    plt.plot([ri[ks_index], ri[ks_index]],[ymin, ymin + ks_stat])\n",
    "    plt.annotate(\"K-S statistic = \" + str(ks_stat), xy = [ri[ks_index] + int((e-s)/100), ymin + ks_stat/4], rotation = 90)\n",
    "    plt.show()\n",
    "    \n",
    "    return"
   ]
  },
  {
   "cell_type": "code",
   "execution_count": null,
   "metadata": {},
   "outputs": [],
   "source": [
    "def k_s_test_1_sample(pa, ri, dist='poisson', c = 0.05):\n",
    "    \n",
    "    pa_mean = np.mean(pa)\n",
    "    pa_var = np.var(pa)\n",
    "\n",
    "    # Sort the data to get the CDFs\n",
    "    pa, ri = np.sort(pa), np.sort(ri)\n",
    "    \n",
    "    s = min(pa[0], ri[0]) - 100\n",
    "    e = max(pa[len(pa) - 1], ri[len(ri) - 1]) + 100\n",
    "    \n",
    "    F_pa = []\n",
    "    F_ri = get_eCDF(sorted_ri_confirmed, s, e)\n",
    "    \n",
    "    # pa CDF at ri change points\n",
    "    if dist == 'poisson':\n",
    "        lam_mme = pa_mean\n",
    "        F_pa = [poisson.cdf(cp, lam_mme) for cp in ri] \n",
    "    elif dist == 'binomial':\n",
    "        p_mme = 1 - pa_var/pa_mean\n",
    "        n_mme = pa_mean/p_mme\n",
    "        F_pa = [binom.cdf(cp, n_mme, p_mme) for cp in ri]\n",
    "    elif dist == 'geometric':  \n",
    "        p_mme = 1/pa_mean\n",
    "        F_pa = [geom.cdf(cp, p_mme) for cp in ri]\n",
    "        \n",
    "    F_ri_minus, F_ri_plus = F_ri[0:-1], F_ri[1:]\n",
    "    ks_stat = ks_index = 0\n",
    "    \n",
    "    for i in range(0, len(X)):\n",
    "        if abs(F_pa[i] - F_ri_minus[i]) > ks_stat:\n",
    "            ks_stat = abs(F_pa[i] - F_ri_minus[i])\n",
    "            ks_index = i\n",
    "        if abs(F_pa[i] - F_ri_plus[i]) > ks_stat:\n",
    "            ks_stat = abs(F_pa[i] - F_ri_plus[i])\n",
    "            ks_index = i\n",
    "    \n",
    "    print(\"ks_stat is {} at {}, where as c is {}\".format(ks_stat, ri[ks_index], c))\n",
    "    if ks_stat > c:\n",
    "        print(\"d > c, So, we reject Null Hypothesis\")\n",
    "    else:\n",
    "        print(\"d <= c, So, we accept Null Hypothesis\")\n",
    "    \n",
    "    return"
   ]
  },
  {
   "cell_type": "markdown",
   "metadata": {},
   "source": [
    "**K-S Test 1 Sample - PA Confimed assumed to be poisson distribution vs RI Confimed, threshold, c = 0.05**<br>\n",
    "<br>\n",
    "Null Hypothesis: $H_o$ = RI Confimed is poisson distribution with parameters obtained from MME on PA Confimed.<br>\n",
    "<br>\n",
    "Alternate Hypothesis: $H_1$ = RI Confimed is poisson distribution with parameters obtained from MME on PA Confimed."
   ]
  },
  {
   "cell_type": "markdown",
   "metadata": {},
   "source": [
    "In[463]:"
   ]
  },
  {
   "cell_type": "code",
   "execution_count": null,
   "metadata": {},
   "outputs": [],
   "source": [
    "k_s_test_1_sample(pa_confirmed, ri_confirmed)"
   ]
  },
  {
   "cell_type": "markdown",
   "metadata": {},
   "source": [
    "**K-S Test 1 Sample - PA Deaths assumed to be poisson distribution vs RI Deaths, threshold, c = 0.05**<br>\n",
    "<br>\n",
    "Null Hypothesis: $H_o$ = RI Deaths is poisson distribution with parameters obtained from MME on PA Deaths.<br>\n",
    "<br>\n",
    "Alternate Hypothesis: $H_1$ = RI Deaths is poisson distribution with parameters obtained from MME on PA Deaths."
   ]
  },
  {
   "cell_type": "markdown",
   "metadata": {},
   "source": [
    "In[464]:"
   ]
  },
  {
   "cell_type": "code",
   "execution_count": null,
   "metadata": {},
   "outputs": [],
   "source": [
    "k_s_test_1_sample(pa_deaths, ri_deaths)"
   ]
  },
  {
   "cell_type": "markdown",
   "metadata": {},
   "source": [
    "**K-S Test 1 Sample - PA Confimred aussmed to be binomial distribution vs RI Confimred, threshold, c = 0.05**<br>\n",
    "<br>\n",
    "Null Hypothesis: $H_o$ = RI Confimred is binomial distribution with parameters obtained from MME on PA Confimred.<br>\n",
    "<br>\n",
    "Alternate Hypothesis: $H_1$ = RI Confimred is binomial distribution with parameters obtained from MME on PA Confimred."
   ]
  },
  {
   "cell_type": "markdown",
   "metadata": {},
   "source": [
    "In[465]:"
   ]
  },
  {
   "cell_type": "code",
   "execution_count": null,
   "metadata": {},
   "outputs": [],
   "source": [
    "k_s_test_1_sample(pa_confirmed, ri_confirmed, dist='binomial')"
   ]
  },
  {
   "cell_type": "markdown",
   "metadata": {},
   "source": [
    "**K-S Test 1 Sample - PA Deaths assumed to be binomial distribution vs RI Deaths, threshold, c = 0.05**<br>\n",
    "<br>\n",
    "Null Hypothesis: $H_o$ = RI Deaths is binomial distribution with parameters obtained from MME on PA Deaths.<br>\n",
    "<br>\n",
    "Alternate Hypothesis: $H_1$ = RI Deaths is binomial distribution with parameters obtained from MME on PA Deaths."
   ]
  },
  {
   "cell_type": "markdown",
   "metadata": {},
   "source": [
    "In[466]:"
   ]
  },
  {
   "cell_type": "code",
   "execution_count": null,
   "metadata": {},
   "outputs": [],
   "source": [
    "k_s_test_1_sample(pa_deaths, ri_deaths, dist='binomial')"
   ]
  },
  {
   "cell_type": "markdown",
   "metadata": {},
   "source": [
    "**K-S Test 1 Sample - PA Confirmed assumed to be geometric distribution vs RI Confimred, threshold, c = 0.05**<br>\n",
    "<br>\n",
    "Null Hypothesis: $H_o$ = RI Confimred is geometric distribution with parameters obtained from MME on PA Confimred.<br>\n",
    "<br>\n",
    "Alternate Hypothesis: $H_1$ = RI Confimred is geometric distribution with parameters obtained from MME on PA Confimred."
   ]
  },
  {
   "cell_type": "markdown",
   "metadata": {},
   "source": [
    "In[467]:"
   ]
  },
  {
   "cell_type": "code",
   "execution_count": null,
   "metadata": {},
   "outputs": [],
   "source": [
    "k_s_test_1_sample(pa_confirmed, ri_confirmed, dist='geometric')"
   ]
  },
  {
   "cell_type": "markdown",
   "metadata": {},
   "source": [
    "**K-S Test 1 Sample - PA Deaths assumed to be geometric distribution vs RI Deaths, threshold, c = 0.05**<br>\n",
    "<br>\n",
    "Null Hypothesis: $H_o$ = RI Deaths is geometric distribution with parameters obtained from MME on PA Deaths.<br>\n",
    "<br>\n",
    "Alternate Hypothesis: $H_1$ = RI Deaths is geometric distribution with parameters obtained from MME on PA Deaths."
   ]
  },
  {
   "cell_type": "markdown",
   "metadata": {},
   "source": [
    "In[468]:"
   ]
  },
  {
   "cell_type": "code",
   "execution_count": null,
   "metadata": {},
   "outputs": [],
   "source": [
    "k_s_test_1_sample(pa_deaths, ri_deaths, dist='geometric')"
   ]
  },
  {
   "cell_type": "markdown",
   "metadata": {},
   "source": [
    "**K-S Test 2 Sample - threshold, c = 0.05**<br>\n",
    "<br>\n",
    "Null Hypothesis: $H_o$ = PA Confimred and RI Confirmed have similar distributions.<br>\n",
    "<br>\n",
    "Alternate Hypothesis: $H_1$ = PA Confimred and RI Confimred have different distributions."
   ]
  },
  {
   "cell_type": "markdown",
   "metadata": {},
   "source": [
    "In[469]:"
   ]
  },
  {
   "cell_type": "code",
   "execution_count": null,
   "metadata": {},
   "outputs": [],
   "source": [
    "k_s_test_2_sample(pa_confirmed, ri_confirmed)"
   ]
  },
  {
   "cell_type": "markdown",
   "metadata": {},
   "source": [
    "**K-S Test 2 Sample - threshold, c = 0.05**<br>\n",
    "<br>\n",
    "Null Hypothesis: $H_o$ = PA Deaths and RI Deaths have similar distributions.<br>\n",
    "<br>\n",
    "Alternate Hypothesis: $H_1$ = PA Deaths and RI Deaths have different distributions."
   ]
  },
  {
   "cell_type": "markdown",
   "metadata": {},
   "source": [
    "In[470]:"
   ]
  },
  {
   "cell_type": "code",
   "execution_count": null,
   "metadata": {},
   "outputs": [],
   "source": [
    "k_s_test_2_sample(pa_deaths, ri_deaths)"
   ]
  },
  {
   "cell_type": "markdown",
   "metadata": {},
   "source": [
    "**Permutation Test - 1000 permutations, threshold, c = 0.05**"
   ]
  },
  {
   "cell_type": "markdown",
   "metadata": {},
   "source": [
    "In[473]:"
   ]
  },
  {
   "cell_type": "code",
   "execution_count": null,
   "metadata": {},
   "outputs": [],
   "source": [
    "def perm_test(pa, ri, no_of_perm):\n",
    "    \n",
    "    count =0\n",
    "    \n",
    "    perm_diff = abs(np.mean(pa) - np.mean(ri))    \n",
    "    covid = np.array(pa.tolist() + ri.tolist())\n",
    "    \n",
    "    pa_n = pa.shape[0]\n",
    "    N = covid.shape[0]\n",
    "    \n",
    "    for i in range(no_of_perm):\n",
    "        perm = np.random.permutation(covid)\n",
    "        d1 = perm[:pa_n+1]\n",
    "        d2 = perm[pa_n+1:]\n",
    "        if (abs(d1.mean() - d2.mean()) > perm_diff):\n",
    "            count += 1\n",
    "    \n",
    "    p_val = count/no_of_perm\n",
    "    \n",
    "    return p_val"
   ]
  },
  {
   "cell_type": "markdown",
   "metadata": {},
   "source": [
    "Null Hypothesis: $H_o$ = PA Confirmed and RI Confirmed have similar distributions.<br>\n",
    "<br>\n",
    "Alternate Hypothesis: $H_1$ = PA Confirmed and RI Confirmed have different distributions."
   ]
  },
  {
   "cell_type": "markdown",
   "metadata": {},
   "source": [
    "In[474]:"
   ]
  },
  {
   "cell_type": "code",
   "execution_count": null,
   "metadata": {},
   "outputs": [],
   "source": [
    "c = 0.05\n",
    "p_val_confirmed = perm_test(pa_confirmed, ri_confirmed, 1000)\n",
    "print(\"p-value for confirmed cases = {} <= c = {}. So, we reject Null Hypothesis.\".format(p_val_confirmed, c))"
   ]
  },
  {
   "cell_type": "markdown",
   "metadata": {},
   "source": [
    "Null Hypothesis: $H_o$ = PA Deaths and RI Deaths have similar distributions.<br>\n",
    "<br>\n",
    "Alternate Hypothesis: $H_1$ = PA Deaths and RI Deaths have different distributions."
   ]
  },
  {
   "cell_type": "markdown",
   "metadata": {},
   "source": [
    "In[475]:"
   ]
  },
  {
   "cell_type": "code",
   "execution_count": null,
   "metadata": {},
   "outputs": [],
   "source": [
    "p_val_deaths = perm_test(pa_deaths, ri_deaths, 1000)\n",
    "print(\"p-value for deaths = {} <= c = {}. So, we reject Null Hypothesis.\".format(p_val_deaths, c))"
   ]
  },
  {
   "cell_type": "markdown",
   "metadata": {},
   "source": [
    "############################## 2D ###########################################"
   ]
  },
  {
   "cell_type": "code",
   "execution_count": null,
   "metadata": {},
   "outputs": [],
   "source": [
    "covid_data_actual = covid_data\n",
    "covid_combined = pd.DataFrame()\n",
    "covid_combined[\"date\"] = covid_data_actual[\"Date\"]\n",
    "covid_combined['date'] = pd.to_datetime(covid_combined['date'])  \n",
    "covid_combined[\"cases\"] = covid_data_actual[\"PA confirmed\"] + covid_data_actual[\"RI confirmed\"]\n",
    "covid_combined[\"deaths\"] = covid_data_actual[\"PA deaths\"] + covid_data_actual[\"RI deaths\"]\n",
    "covid_combined = covid_combined.set_index(['date'])"
   ]
  },
  {
   "cell_type": "markdown",
   "metadata": {},
   "source": [
    "In[139]:"
   ]
  },
  {
   "cell_type": "code",
   "execution_count": null,
   "metadata": {},
   "outputs": [],
   "source": [
    "covid_jun_four = covid_combined.loc['2020-6-1':'2020-6-28']\n",
    "al = covid_combined.loc['2020-6-29':'2020-7-05']\n",
    "# print(al['deaths'].mean())\n",
    "# covid_jun_four.reset_index(drop=False, inplace=True)\n",
    "lambda_mme = covid_jun_four['deaths'].mean()\n",
    "# print(lambda_mme)\n",
    "beta = lambda_mme\n",
    "week_5 = covid_combined.loc['2020-6-29':'2020-7-05']\n",
    "# week_5.reset_index(drop=False, inplace=True)\n",
    "deaths_5 = list(week_5['deaths'])\n",
    "week_6 = covid_combined.loc['2020-7-06':'2020-7-12']\n",
    "# week_6.reset_index(drop=False, inplace=True)\n",
    "deaths_6 = list(week_6['deaths'])\n",
    "week_7 = covid_combined.loc['2020-7-13':'2020-7-19']\n",
    "# week_7.reset_index(drop=False, inplace=True)\n",
    "deaths_7 = list(week_7['deaths'])\n",
    "week_8 = covid_combined.loc['2020-7-20':'2020-7-26']\n",
    "# week_8.reset_index(drop=False, inplace=True)\n",
    "deaths_8 = list(week_8['deaths'])"
   ]
  },
  {
   "cell_type": "markdown",
   "metadata": {},
   "source": [
    "print(np.mean(deaths_5), np.mean(deaths_6), np.mean(deaths_7), np.mean(deaths_8))"
   ]
  },
  {
   "cell_type": "code",
   "execution_count": null,
   "metadata": {},
   "outputs": [],
   "source": [
    "deaths = [deaths_5,deaths_6,deaths_7,deaths_8]\n",
    "deaths\n",
    "# deaths_alt = deaths_5+deaths_6+deaths_7+deaths_8\n",
    "# print(deaths_alt)"
   ]
  },
  {
   "cell_type": "code",
   "execution_count": null,
   "metadata": {},
   "outputs": [],
   "source": [
    "plt.figure(figsize=(16,8))\n",
    "death_sum = 0\n",
    "i=0\n",
    "for d_i in deaths:\n",
    "    death_sum += sum(d_i)\n",
    "    alpha = death_sum + 1\n",
    "    b = (i+1)*7 + (1/beta)\n",
    "    x = np.linspace(gamma.ppf(0.01, alpha, scale=1/b), gamma.ppf(0.99, alpha, scale=1/b), 100)\n",
    "    plt.title(\"Posterior Gamma distributions\")\n",
    "    label= \"Week-\" + str(i+5) + \" MAP(mean): \" + str(alpha/b)\n",
    "    plt.plot(x, gamma.pdf(x, alpha, scale=1/b), label=label)\n",
    "    plt.xlabel(\"Deaths\")\n",
    "    plt.ylabel(\"PDF of Gamma distribution\")\n",
    "    plt.legend()\n",
    "    i+=1\n",
    "plt.show()"
   ]
  },
  {
   "cell_type": "code",
   "execution_count": null,
   "metadata": {},
   "outputs": [],
   "source": []
  },
  {
   "cell_type": "code",
   "execution_count": null,
   "metadata": {},
   "outputs": [],
   "source": []
  },
  {
   "cell_type": "markdown",
   "metadata": {},
   "source": [
    "### Observations:<br>\n",
    "<br>\n",
    "- From the above graphs, we can say that as the weeks progress, MAP is reducing indicating a decrease in number of deaths<br>\n",
    "- We can also infer that as the time progresses, the number of deaths might saturate if the trend follows a similar pattern (rate)"
   ]
  }
 ],
 "metadata": {
  "kernelspec": {
   "display_name": "Python 3",
   "language": "python",
   "name": "python3"
  },
  "language_info": {
   "codemirror_mode": {
    "name": "ipython",
    "version": 3
   },
   "file_extension": ".py",
   "mimetype": "text/x-python",
   "name": "python",
   "nbconvert_exporter": "python",
   "pygments_lexer": "ipython3",
   "version": "3.8.5"
  }
 },
 "nbformat": 4,
 "nbformat_minor": 2
}
